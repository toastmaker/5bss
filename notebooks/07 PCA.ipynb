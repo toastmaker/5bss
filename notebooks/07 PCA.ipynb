{
 "cells": [
  {
   "cell_type": "markdown",
   "metadata": {
    "collapsed": true
   },
   "source": [
    "## Curse of dimensionality\n",
    "\n",
    "![](figures/lich640.jpg)\n",
    "\n",
    "$\\left. \\dfrac{2r^d \\pi^{d/2}}{d \\Gamma(d/2)} \\middle/ (2r)^{d} \\right. = \\dfrac{\\pi^{d/2}}{d 2^{d-1} \\Gamma(d/2)}\\rightarrow 0$ as $d\\rightarrow \\infty$"
   ]
  },
  {
   "cell_type": "markdown",
   "metadata": {},
   "source": [
    "## Garbage in – garbage out\n",
    "![](files/images/garbage640.jpg)"
   ]
  }
 ],
 "metadata": {
  "kernelspec": {
   "display_name": "Python 2",
   "language": "python",
   "name": "python2"
  },
  "language_info": {
   "codemirror_mode": {
    "name": "ipython",
    "version": 2
   },
   "file_extension": ".py",
   "mimetype": "text/x-python",
   "name": "python",
   "nbconvert_exporter": "python",
   "pygments_lexer": "ipython2",
   "version": "2.7.11"
  }
 },
 "nbformat": 4,
 "nbformat_minor": 0
}
