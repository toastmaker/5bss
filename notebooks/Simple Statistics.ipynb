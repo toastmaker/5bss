{
 "cells": [
  {
   "cell_type": "code",
   "execution_count": 112,
   "metadata": {
    "collapsed": true
   },
   "outputs": [],
   "source": [
    "%matplotlib inline\n",
    "import matplotlib.pyplot as plt\n",
    "import numpy as np"
   ]
  },
  {
   "cell_type": "code",
   "execution_count": 113,
   "metadata": {
    "collapsed": true
   },
   "outputs": [],
   "source": [
    "np.random.seed(42)"
   ]
  },
  {
   "cell_type": "markdown",
   "metadata": {},
   "source": [
    "# Monte Carlo Recepices for Simple Statistics\n",
    "\n",
    "*martin.topinka@gmail.com*\n",
    "\n",
    "    git clone https://github.com/toastmaker/5bss.git\n",
    "\n",
    "Heavily based on Jake Vanderplas's talk **Statistics for Hackers**\n",
    "\n",
    "- https://speakerdeck.com/jakevdp/statistics-for-hackers\n",
    "\n",
    "Other great resources:\n",
    "\n",
    "- Jake Vanderplas book: Python Data Science Handbook\n",
    "- Jake Vanderplas blog (Pythonic Perambulations): https://jakevdp.github.io \n",
    "- Cam Davidson-Pilon book: https://github.com/CamDavidsonPilon/Probabilistic-Programming-and-Bayesian-Methods-for-Hackers\n",
    "- post from Jake Vanderplas  https://jakevdp.github.io/blog/2015/07/06/model-complexity-myth/\n",
    "\n",
    "Main goals:\n",
    "\n",
    "- to show that even complicated-looking statistics can be simple\n",
    "- to apply Monte Carlo approach (a for loop and a random number generator, Python)\n",
    "\n",
    "<img src=\"figures/random-dilbert640.png\">\n",
    "\n",
    "### The Art of Asking the Right Question"
   ]
  },
  {
   "cell_type": "markdown",
   "metadata": {},
   "source": [
    "1. Direct Monte Carlo simulation\n",
    "2. Shuffling\n",
    "3. Bootstrapping\n",
    "4. Cross-validation\n",
    "5. Monte Carlo Markov Chain (with example on fittting with outliers)"
   ]
  },
  {
   "cell_type": "markdown",
   "metadata": {},
   "source": [
    "## Coin example\n",
    "\n",
    "Toss 30 times and get 22 heads. Is the coin fair?\n",
    "\n",
    "- a fair coin should show about 15 heads!\n",
    "- even a fair coin could show 22, just by chance, it's random\n",
    "\n",
    "Classiacl method is to test the Null hypothesis\n",
    "\n",
    "What is the probability of a fair coin showing 22 heads in 30 tosses by chance?\n",
    "\n",
    "$P(H) = 1/2$\n",
    "\n",
    "$P(HH) = (1/2)^2$\n",
    "\n",
    "$P(2H, 1T) = P(HHT) + P(HTH) + P(THH)$\n",
    "\n",
    "...\n",
    "\n",
    "Mr Bernoulli:\n",
    "\n",
    "$P(N_H, N) = \\binom{N}{N_H} p^{N_H} (1 - p)^{N - N_H}$\n",
    "\n",
    "- number of arrangements\n",
    "- $p$ probability of head\n",
    "- probability of $N_H$ heads in $N$ tosses"
   ]
  },
  {
   "cell_type": "code",
   "execution_count": 114,
   "metadata": {
    "collapsed": false
   },
   "outputs": [],
   "source": [
    "import scipy.stats"
   ]
  },
  {
   "cell_type": "code",
   "execution_count": 115,
   "metadata": {
    "collapsed": false
   },
   "outputs": [
    {
     "name": "stdout",
     "output_type": "stream",
     "text": [
      "0.00545096118003\n"
     ]
    }
   ],
   "source": [
    "[ n, p ] = [ 30, 0.5 ]\n",
    "rv = scipy.stats.binom(n, p)\n",
    "n_h = 22\n",
    "print rv.pmf(n_h)"
   ]
  },
  {
   "cell_type": "markdown",
   "metadata": {},
   "source": [
    "### The concept of p-value\n",
    "\n",
    "Probability of obtaining a result equal or more exteme than that what was observed, if the null hypothesis is true."
   ]
  },
  {
   "cell_type": "code",
   "execution_count": 116,
   "metadata": {
    "collapsed": false
   },
   "outputs": [
    {
     "data": {
      "image/png": "[encoded data removed]",
      "text/plain": [
       "<matplotlib.figure.Figure at 0x11660a150>"
      ]
     },
     "metadata": {},
     "output_type": "display_data"
    }
   ],
   "source": [
    "x = np.arange(1, n+1)\n",
    "v_crit = rv.isf(0.05)\n",
    "\n",
    "plt.plot(x, rv.pmf(x), linestyle='steps-mid')\n",
    "plt.fill_between(x[x>v_crit], rv.pmf(x)[x>v_crit], facecolor='red')\n",
    "\n",
    "#h = plt.vlines(x, 0, rv.pmf(x), lw=2)\n",
    "#plt.vlines(x[n_h-1:], 0, rv.pmf(x[n_h-1:]), color='red', lw=2)\n",
    "\n",
    "plt.annotate('p = 0.05',xy=(v_crit+2,0.03),color='red')\n",
    "plt.title('Bernoulli 30 tosses of a fair coin')\n",
    "plt.xlabel('Number of heads');"
   ]
  },
  {
   "cell_type": "code",
   "execution_count": 117,
   "metadata": {
    "collapsed": false
   },
   "outputs": [
    {
     "name": "stdout",
     "output_type": "stream",
     "text": [
      "0.00806240085512\n"
     ]
    }
   ],
   "source": [
    "pvalue = scipy.stats.binom_test((22,8), p=p) /2.\n",
    "# division by 2 because the default is two sided, not one sided\n",
    "# you can ommit /2 if  alternative='greater' is added\n",
    "# distribution is symmetric\n",
    "print pvalue"
   ]
  },
  {
   "cell_type": "code",
   "execution_count": 118,
   "metadata": {
    "collapsed": false
   },
   "outputs": [
    {
     "data": {
      "text/plain": [
       "0.0080624008551239933"
      ]
     },
     "execution_count": 118,
     "metadata": {},
     "output_type": "execute_result"
    }
   ],
   "source": [
    "scipy.stats.binom_test(22, 30, 0.5, alternative='greater')"
   ]
  },
  {
   "cell_type": "markdown",
   "metadata": {},
   "source": [
    "Probability 0.008 of this observation given a fair coin is smaller than $p < 0.05$. We can reject the fair coin hypothesis at $p = 0.05$ level."
   ]
  },
  {
   "cell_type": "markdown",
   "metadata": {},
   "source": [
    "Essential is the knowledge of the shape of the Bernoulli underlying distribution! Interpretation requires understanding the doc/help..."
   ]
  },
  {
   "cell_type": "code",
   "execution_count": 226,
   "metadata": {
    "collapsed": false
   },
   "outputs": [
    {
     "data": {
      "text/plain": [
       "0.0080624008551239967"
      ]
     },
     "execution_count": 226,
     "metadata": {},
     "output_type": "execute_result"
    }
   ],
   "source": [
    "1. - rv.cdf(21)\n",
    "# As you can see, one has to read careful the man page\n",
    "# what the parameters really are! "
   ]
  },
  {
   "cell_type": "markdown",
   "metadata": {},
   "source": [
    "### Simulate it!"
   ]
  },
  {
   "cell_type": "code",
   "execution_count": 120,
   "metadata": {
    "collapsed": false
   },
   "outputs": [
    {
     "name": "stdout",
     "output_type": "stream",
     "text": [
      "0.0089\n"
     ]
    }
   ],
   "source": [
    "M = 0\n",
    "Ntrials = 10000\n",
    "for i in range(Ntrials):\n",
    "    trials = np.random.randint(2, size=30)\n",
    "    if (trials.sum() >= 22):\n",
    "        M += 1\n",
    "p = M/np.float(Ntrials)\n",
    "print p"
   ]
  },
  {
   "cell_type": "markdown",
   "metadata": {},
   "source": [
    "Computing the sampling distribution is often hard, simulating is often easy and intuitive"
   ]
  },
  {
   "cell_type": "markdown",
   "metadata": {},
   "source": [
    "## Is the difference between two groups of observations significant?\n",
    "\n",
    "e.g. variability over a period of time"
   ]
  },
  {
   "cell_type": "code",
   "execution_count": 121,
   "metadata": {
    "collapsed": false
   },
   "outputs": [],
   "source": [
    "A = np.array([84., 72., 57., 46., 63., 76., 99., 91.])\n",
    "B = np.array([81., 69., 74., 61., 56, 87., 69., 65., 66., 44., 62., 69.])\n",
    "\n",
    "NA = len(A)\n",
    "NB = len(B)"
   ]
  },
  {
   "cell_type": "code",
   "execution_count": 122,
   "metadata": {
    "collapsed": false
   },
   "outputs": [
    {
     "name": "stdout",
     "output_type": "stream",
     "text": [
      "Mean A = 73.5\n",
      "Mean B = 66.9\n",
      "\n",
      "Diff A - B = 6.6\n",
      "\n",
      "Sigma A = 316.3\n",
      "Sigma B = 124.8\n"
     ]
    }
   ],
   "source": [
    "muA, sigA = A.mean(), A.var(ddof=1)\n",
    "muB, sigB = B.mean(), B.var(ddof=1)\n",
    "diff = muA-muB\n",
    "print \"Mean A = %.1f\"%muA\n",
    "print \"Mean B = %.1f\"%muB\n",
    "print \"\\nDiff A - B = %.1f\\n\"%(diff)\n",
    "print \"Sigma A = %.1f\"%sigA\n",
    "print \"Sigma B = %.1f\"%sigB"
   ]
  },
  {
   "cell_type": "markdown",
   "metadata": {},
   "source": [
    "Is the difference significant?\n",
    "\n",
    "But what are the distributions?\n",
    "\n",
    "Difference of two distributions follows t distribution\n",
    "\n",
    "Welch's t-test...\n",
    "\n",
    "$$t = \\frac{ \\bar{X_1} - \\bar{X_2} } {\\sqrt{\\frac{s^2_1}{n_1} + \\frac{s_2^2}{n_2}}}$$"
   ]
  },
  {
   "cell_type": "code",
   "execution_count": 123,
   "metadata": {
    "collapsed": true
   },
   "outputs": [],
   "source": [
    "def ttest(mu1, mu2, sig1, sig2, n1, n2):\n",
    "    return (mu1 - mu2)/np.sqrt(sig1/n1 + sig2/n2)"
   ]
  },
  {
   "cell_type": "code",
   "execution_count": 124,
   "metadata": {
    "collapsed": false,
    "scrolled": true
   },
   "outputs": [
    {
     "data": {
      "text/plain": [
       "0.93161477717115826"
      ]
     },
     "execution_count": 124,
     "metadata": {},
     "output_type": "execute_result"
    }
   ],
   "source": [
    "t = ttest(muA, muB, sigA, sigB, NA, NB)\n",
    "t"
   ]
  },
  {
   "cell_type": "markdown",
   "metadata": {},
   "source": [
    "Student t distribution\n",
    "\n",
    "$$p(t, \\nu) = \\frac{ \\Gamma \\left( \\frac{\\nu + 1}{2}\\right) } {\\sqrt{\\nu \\pi} \\Gamma \\left(\\frac{\\nu}{2}\\right)} \\left( 1 + \\frac{t^2}{\\nu}\\right)^{-\\frac{\\nu+1}{2}}$$\n",
    "\n",
    "where $\\nu$ is a degree of freedom...\n",
    "\n",
    "$$\\nu \\approx \\frac{\\left( \\frac{s_1^2}{N_1}+ \\frac{s^2_2}{N_2}\\right)^2}{\\frac{s^4_1}{N_1^2(N_1-1)}+ \\frac{s^4_2}{N_2^2(N_2 -1)}}$$\n",
    "\n",
    "and $\\Gamma$ is an extension of the factorial function (for integer $n$)\n",
    "$\\Gamma(n) = (n-1)!$ ...\n",
    "\n",
    "\n",
    "$$\\Gamma(t) = \\int_0^\\infty x^{t-1} \\exp(-x) dx$$"
   ]
  },
  {
   "cell_type": "markdown",
   "metadata": {},
   "source": [
    "<img src=\"figures/travolta.gif\" width=\"50%\">"
   ]
  },
  {
   "cell_type": "code",
   "execution_count": 125,
   "metadata": {
    "collapsed": true
   },
   "outputs": [],
   "source": [
    "def degof(s1, n1, s2, n2):\n",
    "    return (s1/n1 + s2/n2)**2 / (s1**2/(n1**2 * (n1-1)) + s2**2/(n2**2 * (n2-1)) )"
   ]
  },
  {
   "cell_type": "code",
   "execution_count": 126,
   "metadata": {
    "collapsed": false
   },
   "outputs": [
    {
     "data": {
      "text/plain": [
       "10.696428999751994"
      ]
     },
     "execution_count": 126,
     "metadata": {},
     "output_type": "execute_result"
    }
   ],
   "source": [
    "( sigA/NA + sigB/NB )**2 / ( ( sigA**2/(NA**2*(NA-1) ) + sigB**2/(NB**2*(NB-1))))"
   ]
  },
  {
   "cell_type": "markdown",
   "metadata": {},
   "source": [
    "But what is the critical value for t-distribution for this $\\nu$?\n",
    "\n",
    "<img src=\"figures/tstat.png\", width=\"100%\">"
   ]
  },
  {
   "cell_type": "code",
   "execution_count": 127,
   "metadata": {
    "collapsed": false
   },
   "outputs": [
    {
     "name": "stdout",
     "output_type": "stream",
     "text": [
      "1.7958848187\n"
     ]
    }
   ],
   "source": [
    "pval = scipy.stats.t.ppf(0.95, 11)\n",
    "print pval"
   ]
  },
  {
   "cell_type": "code",
   "execution_count": 128,
   "metadata": {
    "collapsed": false
   },
   "outputs": [
    {
     "data": {
      "text/plain": [
       "False"
      ]
     },
     "execution_count": 128,
     "metadata": {},
     "output_type": "execute_result"
    }
   ],
   "source": [
    "t_crit = 1.7959\n",
    "t = 0.93\n",
    "t > t_crit"
   ]
  },
  {
   "cell_type": "markdown",
   "metadata": {},
   "source": [
    "The difference 6.6 is **not** significant at $p=0.05$ level..."
   ]
  },
  {
   "cell_type": "code",
   "execution_count": 129,
   "metadata": {
    "collapsed": false
   },
   "outputs": [
    {
     "name": "stdout",
     "output_type": "stream",
     "text": [
      "Ttest_indResult(statistic=0.93161477717115826, pvalue=0.3720857855465306)\n"
     ]
    }
   ],
   "source": [
    "print scipy.stats.ttest_ind(A, B, equal_var=False)"
   ]
  },
  {
   "cell_type": "code",
   "execution_count": 130,
   "metadata": {
    "collapsed": false
   },
   "outputs": [
    {
     "name": "stdout",
     "output_type": "stream",
     "text": [
      "0.186042892773\n"
     ]
    }
   ],
   "source": [
    "from statsmodels.stats.weightstats import ttest_ind\n",
    "t, p, dof = ttest_ind(A, B, alternative='larger', usevar='unequal')\n",
    "print p"
   ]
  },
  {
   "cell_type": "markdown",
   "metadata": {},
   "source": [
    "Dark magic lies behind the sampling from t-distribution.\n",
    "\n",
    "We cannot sample this time, we don't know the underlying distributions of A and B\n",
    "\n",
    "## Shuffling\n",
    "\n",
    "Idea: **If the distributions are the same, shuffling (changing labels) will not change the statistics (mean). If the result is the same, the distributions are likely the same**\n",
    "\n",
    "1. shuffle\n",
    "2. rearrange\n",
    "3. compute means and difference\n",
    "\n",
    "Do 1. - 3. many times. $N > 6.6 / N_tot$. Is it smaller than $p = 0.05$? Reject the hypothesis that shuffling does not matter."
   ]
  },
  {
   "cell_type": "code",
   "execution_count": 131,
   "metadata": {
    "collapsed": false
   },
   "outputs": [
    {
     "name": "stdout",
     "output_type": "stream",
     "text": [
      "0.149\n",
      "True\n"
     ]
    }
   ],
   "source": [
    "AB = np.concatenate([A, B])\n",
    "M = 0\n",
    "N_trials = 10000\n",
    "for i in range(N_trials):\n",
    "    np.random.shuffle(AB)\n",
    "    mu1 = AB[0:NA].mean()\n",
    "    mu2 = AB[NA:].mean()\n",
    "    diff = mu1 - mu2\n",
    "    if (diff > 6.6):\n",
    "        M = M +1\n",
    "pvalue = M/np.float(Ntrials)\n",
    "print pvalue\n",
    "print pvalue > 0.05 # True if no difference at p= 0.05 level"
   ]
  },
  {
   "cell_type": "markdown",
   "metadata": {},
   "source": [
    "Works only if:\n",
    "\n",
    "- Null hypothesis assumes the two groups follow the same distribution\n",
    "- samples are representative (be careful about selection biases)\n",
    "- trials are independent"
   ]
  },
  {
   "cell_type": "markdown",
   "metadata": {},
   "source": [
    "## Bootstrapping"
   ]
  },
  {
   "cell_type": "code",
   "execution_count": 132,
   "metadata": {
    "collapsed": true
   },
   "outputs": [],
   "source": [
    "sample = np.array([48, 24, 51, 12, 21, 41, 25, 23, 32, 61, 19, 24, 29, 21, 23, 13, 32, 18, 42, 18])"
   ]
  },
  {
   "cell_type": "markdown",
   "metadata": {},
   "source": [
    "What is the mean?\n",
    "\n",
    "What is the standard error of this mean?\n",
    "\n",
    "$$\\bar{x}=\\frac{1}{N}\\Sigma_{i=1}^{N} x_i$$\n",
    "\n",
    "$$\\sigma_\\bar{x} = \\frac{1}{\\sqrt{N}}\\sqrt{\\frac{1}{N-1}}\\Sigma_{i=1}^N (x_i - \\bar{x})^2$$"
   ]
  },
  {
   "cell_type": "code",
   "execution_count": 133,
   "metadata": {
    "collapsed": false
   },
   "outputs": [
    {
     "data": {
      "text/plain": [
       "(28.850000000000001, 2.9702693480558291)"
      ]
     },
     "execution_count": 133,
     "metadata": {},
     "output_type": "execute_result"
    }
   ],
   "source": [
    "sample.mean(), scipy.stats.sem(sample, ddof=1) # standard error of the mean"
   ]
  },
  {
   "cell_type": "markdown",
   "metadata": {},
   "source": [
    "Again, we don't know the model\n",
    "\n",
    "Bootstrapping:\n",
    "\n",
    "**Idea: The data estimates its own distribution**\n",
    "\n",
    "Simulate the distribution by drawing samples from the samples with replacement\n",
    "\n",
    "1. draw a sample\n",
    "2. calculate mean"
   ]
  },
  {
   "cell_type": "code",
   "execution_count": 134,
   "metadata": {
    "collapsed": false
   },
   "outputs": [
    {
     "name": "stdout",
     "output_type": "stream",
     "text": [
      "28.84813 2.89494050079\n"
     ]
    }
   ],
   "source": [
    "Ntrials = 10000\n",
    "xbar = np.empty(10000)\n",
    "\n",
    "for i in range(Ntrials):\n",
    "    new_sample = sample[np.random.randint(20, size=20)]\n",
    "    xbar[i] = np.mean(new_sample)\n",
    "print xbar.mean(), xbar.std()"
   ]
  },
  {
   "cell_type": "code",
   "execution_count": 135,
   "metadata": {
    "collapsed": false
   },
   "outputs": [
    {
     "data": {
      "image/png": "[encoded data removed]",
      "text/plain": [
       "<matplotlib.figure.Figure at 0x11c48a150>"
      ]
     },
     "metadata": {},
     "output_type": "display_data"
    }
   ],
   "source": [
    "plt.hist(xbar, bins=50);"
   ]
  },
  {
   "cell_type": "markdown",
   "metadata": {},
   "source": [
    "$29 \\pm 3$"
   ]
  },
  {
   "cell_type": "markdown",
   "metadata": {},
   "source": [
    "Bootstrapping is often used to determine the uncertainity of fit parameters"
   ]
  },
  {
   "cell_type": "code",
   "execution_count": 136,
   "metadata": {
    "collapsed": false
   },
   "outputs": [
    {
     "data": {
      "text/plain": [
       "20"
      ]
     },
     "execution_count": 136,
     "metadata": {},
     "output_type": "execute_result"
    }
   ],
   "source": [
    "x = np.array([ 7.5,  8.1,  8.4,  8.8,  8.9,\n",
    "               9.0,  9.1,  9.2,  9.3,  9.5,\n",
    "               9.6,  9.9, 10.0, 10.05, 10.5,\n",
    "              10.6, 10.6, 11.2, 11.8, 12.6 ])\n",
    "x.size"
   ]
  },
  {
   "cell_type": "code",
   "execution_count": 137,
   "metadata": {
    "collapsed": false
   },
   "outputs": [
    {
     "data": {
      "text/plain": [
       "20"
      ]
     },
     "execution_count": 137,
     "metadata": {},
     "output_type": "execute_result"
    }
   ],
   "source": [
    "y = np.array([22, 21, 19, 16, 18,\n",
    "              15, 17, 17, 17, 19,\n",
    "              14, 14, 15, 11, 12,\n",
    "              12, 13, 10,  7,  9])\n",
    "y.size"
   ]
  },
  {
   "cell_type": "code",
   "execution_count": 138,
   "metadata": {
    "collapsed": false
   },
   "outputs": [
    {
     "name": "stdout",
     "output_type": "stream",
     "text": [
      "Slope:  -2.96942934494\n",
      "Intersect: 43.7999710996\n"
     ]
    },
    {
     "data": {
      "image/png": "[encoded data removed]",
      "text/plain": [
       "<matplotlib.figure.Figure at 0x11c2d3b10>"
      ]
     },
     "metadata": {},
     "output_type": "display_data"
    }
   ],
   "source": [
    "plt.plot(x,y,\"o\")\n",
    "plt.grid(True)\n",
    "slope, intersect = np.polyfit(x,y, 1)\n",
    "plt.plot(x,slope*x+intersect,'-r')\n",
    "print \"Slope: \", slope\n",
    "print \"Intersect:\", intersect"
   ]
  },
  {
   "cell_type": "code",
   "execution_count": 139,
   "metadata": {
    "collapsed": false
   },
   "outputs": [
    {
     "name": "stdout",
     "output_type": "stream",
     "text": [
      "Slope: -2.96942934494\n",
      "Intersect: 43.7999710996\n",
      "Std Error: 0.289810879821\n"
     ]
    }
   ],
   "source": [
    "from scipy.stats import linregress\n",
    "linreg = linregress(x,y)\n",
    "print \"Slope:\", linreg.slope\n",
    "print \"Intersect:\", linreg.intercept\n",
    "print \"Std Error:\", linreg.stderr"
   ]
  },
  {
   "cell_type": "markdown",
   "metadata": {},
   "source": [
    "But this is the error of the fit, what is the error of each parameter?"
   ]
  },
  {
   "cell_type": "code",
   "execution_count": 140,
   "metadata": {
    "collapsed": true
   },
   "outputs": [],
   "source": [
    "results = np.empty((10000,2))\n",
    "for i in range(10000):\n",
    "    ind = np.random.randint(20, size=20)\n",
    "    slope, intercept = np.polyfit(x[ind],y[ind], 1)\n",
    "    results[i][0], results[i][1] = slope, intercept"
   ]
  },
  {
   "cell_type": "code",
   "execution_count": 146,
   "metadata": {
    "collapsed": false
   },
   "outputs": [
    {
     "name": "stdout",
     "output_type": "stream",
     "text": [
      "-3.0116398793 +/- 0.325927808159\n"
     ]
    }
   ],
   "source": [
    "print results[:,0].mean(), '+/-', results[:,0].std()"
   ]
  },
  {
   "cell_type": "code",
   "execution_count": 147,
   "metadata": {
    "collapsed": false
   },
   "outputs": [
    {
     "name": "stdout",
     "output_type": "stream",
     "text": [
      "44.1819678953 +/- 3.10270007361\n"
     ]
    }
   ],
   "source": [
    "print results[:,1].mean(), '+/-', results[:,1].std()"
   ]
  },
  {
   "cell_type": "markdown",
   "metadata": {},
   "source": [
    "- Bootstrapping does not work for only few samples (N<20)\n",
    "- Be careful about biases"
   ]
  },
  {
   "cell_type": "markdown",
   "metadata": {},
   "source": [
    "## Cross validation\n",
    "\n",
    "We know this from ML already"
   ]
  },
  {
   "cell_type": "markdown",
   "metadata": {},
   "source": [
    "### Which model is a better fit?\n",
    "\n",
    "$y = a + b x$\n",
    "\n",
    "$y = a + b x + c x^2$\n",
    "\n",
    "or higher polynomial?"
   ]
  },
  {
   "cell_type": "markdown",
   "metadata": {},
   "source": [
    "- measure of error is rms (root of sum of squared errors)\n",
    "- but more flexible models will always have lower RMS error"
   ]
  },
  {
   "cell_type": "markdown",
   "metadata": {},
   "source": [
    "difference in mean squared error follows chi-square distribution\n",
    "\n",
    "$$p(x, \\nu) = \\frac{1}{2^{\\nu/2}\\Gamma \\left(\\frac{\\nu}{2}\\right)} x ^{\\frac{\\nu}{2}-1} \\exp \\left({-\\frac{1}{2}x}\\right)$$\n",
    "\n",
    "$\\nu \\approx \\nu_2 - \\nu_1$\n",
    "\n",
    "$\\nu_2 \\approx (N - d_2)$\n",
    "\n",
    "$\\nu_1 \\approx (N - d_1)$\n",
    "\n",
    "models are nested, therefore one can estimate degrees of freedom easily\n",
    "\n",
    "<img src=\"figures/help.gif\">"
   ]
  },
  {
   "cell_type": "markdown",
   "metadata": {},
   "source": [
    "**Cross-validation idea:**\n",
    "\n",
    "1. Split data **randomly** in two sets\n",
    "2. Fit both halves\n",
    "3. Use the model and calculate the rms for the other half and vice versa\n",
    "4. Compare rms and cross-validated rms"
   ]
  },
  {
   "cell_type": "code",
   "execution_count": 148,
   "metadata": {
    "collapsed": false
   },
   "outputs": [],
   "source": [
    "import numpy as np\n",
    "\n",
    "np.random.seed(0)\n",
    "true_fun = lambda X: 10 - 1. / (X + 0.1)\n",
    "\n",
    "def make_data(N, err=1.0, rseed=1):\n",
    "    # randomly sample the data\n",
    "#    rng = np.random.RandomState(rseed)\n",
    "    X = np.sort(np.random.rand(N))\n",
    "    X = X[:, np.newaxis]\n",
    "    #X = np.sort(rng.rand(N, 1))\n",
    "    y = true_fun(X.ravel())\n",
    "    if err > 0:\n",
    "        y += err * 1.*np.random.randn(N)\n",
    "    return X, y\n",
    "\n",
    "N = 30\n",
    "X, y = make_data(N)"
   ]
  },
  {
   "cell_type": "code",
   "execution_count": 149,
   "metadata": {
    "collapsed": false
   },
   "outputs": [],
   "source": [
    "def rms(y_real, y_predicted):\n",
    "    return np.sqrt(np.mean( (y_real-y_predicted)**2) )"
   ]
  },
  {
   "cell_type": "code",
   "execution_count": 150,
   "metadata": {
    "collapsed": false
   },
   "outputs": [
    {
     "data": {
      "text/plain": [
       "<matplotlib.text.Text at 0x114eb7c10>"
      ]
     },
     "execution_count": 150,
     "metadata": {},
     "output_type": "execute_result"
    },
    {
     "data": {
      "image/png": "[encoded data removed]",
      "text/plain": [
       "<matplotlib.figure.Figure at 0x11c140090>"
      ]
     },
     "metadata": {},
     "output_type": "display_data"
    }
   ],
   "source": [
    "z1 = np.polyfit(X.ravel(), y, 1)\n",
    "f1 = np.poly1d(z1)\n",
    "y_new = f1(X.ravel())\n",
    "plt.scatter(X.ravel(), y);\n",
    "plt.plot(X.ravel(), y_new, color='red')\n",
    "plt.title('1 degree rms = %.1f'%rms(y, y_new))"
   ]
  },
  {
   "cell_type": "code",
   "execution_count": 151,
   "metadata": {
    "collapsed": false
   },
   "outputs": [
    {
     "data": {
      "text/plain": [
       "1.4167738123934264"
      ]
     },
     "execution_count": 151,
     "metadata": {},
     "output_type": "execute_result"
    }
   ],
   "source": [
    "from sklearn.metrics import mean_squared_error\n",
    "from math import sqrt\n",
    "\n",
    "rms1 = sqrt(mean_squared_error(y, y_new))\n",
    "rms1"
   ]
  },
  {
   "cell_type": "code",
   "execution_count": 152,
   "metadata": {
    "collapsed": false
   },
   "outputs": [
    {
     "data": {
      "text/plain": [
       "<matplotlib.text.Text at 0x1165762d0>"
      ]
     },
     "execution_count": 152,
     "metadata": {},
     "output_type": "execute_result"
    },
    {
     "data": {
      "image/png": "[encoded data removed]",
      "text/plain": [
       "<matplotlib.figure.Figure at 0x1278eae90>"
      ]
     },
     "metadata": {},
     "output_type": "display_data"
    }
   ],
   "source": [
    "z2 = np.polyfit(X.ravel(), y, 2)\n",
    "f2 = np.poly1d(z2)\n",
    "y_new = f2(X.ravel())\n",
    "plt.scatter(X.ravel(), y);\n",
    "plt.plot(X.ravel(), y_new, color='red')\n",
    "plt.title('2 degree rms = %.1f'%rms(y, y_new))"
   ]
  },
  {
   "cell_type": "code",
   "execution_count": 153,
   "metadata": {
    "collapsed": false
   },
   "outputs": [
    {
     "data": {
      "text/plain": [
       "1.134207969060934"
      ]
     },
     "execution_count": 153,
     "metadata": {},
     "output_type": "execute_result"
    }
   ],
   "source": [
    "rms2 = sqrt(mean_squared_error(y, y_new))\n",
    "rms2"
   ]
  },
  {
   "cell_type": "code",
   "execution_count": 154,
   "metadata": {
    "collapsed": false
   },
   "outputs": [],
   "source": [
    "from sklearn.preprocessing import PolynomialFeatures\n",
    "from sklearn.linear_model import LinearRegression\n",
    "from sklearn.pipeline import make_pipeline\n",
    "\n",
    "def PolynomialRegression(degree=2, **kwargs):\n",
    "    return make_pipeline(PolynomialFeatures(degree),\n",
    "                         LinearRegression(**kwargs))"
   ]
  },
  {
   "cell_type": "code",
   "execution_count": 156,
   "metadata": {
    "collapsed": false
   },
   "outputs": [
    {
     "data": {
      "image/png": "[encoded data removed]",
      "text/plain": [
       "<matplotlib.figure.Figure at 0x11640c610>"
      ]
     },
     "metadata": {},
     "output_type": "display_data"
    }
   ],
   "source": [
    "%matplotlib inline\n",
    "import matplotlib.pyplot as plt\n",
    "import seaborn; seaborn.set()  # plot formatting\n",
    "\n",
    "X_test = np.linspace(-0.1, 1.1, 2*N)[:, None]\n",
    "\n",
    "plt.scatter(X.ravel(), y, color='black')\n",
    "plt.plot(X.ravel(), true_fun(X.ravel()), label='True', linestyle=\":\")\n",
    "\n",
    "axis = plt.axis()\n",
    "for degree in [1, 2, 5, 25]:\n",
    "    y_test = PolynomialRegression(degree).fit(X, y).predict(X_test)\n",
    "    y_fool = PolynomialRegression(degree).fit(X, y).predict(X)\n",
    "    rms_val = rms(y, y_fool)\n",
    "#    scores = cross_validation.cross_val_score(PolynomialRegression(degree),\n",
    "#        X, y, scoring=\"mean_squared_error\", cv=cv)\n",
    "    plt.plot(X_test.ravel(), y_test, label='degree={0}, RMS={1:.2f}'.format(degree, rms_val))\n",
    "plt.xlim(-0.1, 1.0)\n",
    "plt.ylim(-2, 12)\n",
    "plt.legend(loc='best');"
   ]
  },
  {
   "cell_type": "code",
   "execution_count": 158,
   "metadata": {
    "collapsed": false
   },
   "outputs": [
    {
     "data": {
      "image/png": "[encoded data removed]",
      "text/plain": [
       "<matplotlib.figure.Figure at 0x11500e4d0>"
      ]
     },
     "metadata": {},
     "output_type": "display_data"
    }
   ],
   "source": [
    "from sklearn.cross_validation import KFold\n",
    "from sklearn import cross_validation\n",
    "\n",
    "cv = KFold(N, n_folds=2, shuffle=True, random_state=1)\n",
    "\n",
    "\n",
    "from sklearn.learning_curve import validation_curve\n",
    "degree = np.arange(0, 10)\n",
    "    \n",
    "train_score, val_score = validation_curve(PolynomialRegression(),\n",
    "                                          X, y,\n",
    "                                          'polynomialfeatures__degree',\n",
    "                                          degree,\n",
    "                                          cv=cv)\n",
    "\n",
    "plt.plot(degree, np.median(train_score, 1), color='blue', label='training score')\n",
    "plt.plot(degree, np.median(val_score, 1), color='red', label='validation score')\n",
    "plt.legend(loc='best')\n",
    "plt.ylim(0, 1)\n",
    "plt.xlabel('degree')\n",
    "plt.ylabel('score');"
   ]
  },
  {
   "cell_type": "markdown",
   "metadata": {},
   "source": [
    "Cross validation is often the only choice in machine learning, because the statistics of the models are typically not known."
   ]
  },
  {
   "cell_type": "markdown",
   "metadata": {},
   "source": [
    "## Monte Carlo Markov Chain Fitting"
   ]
  },
  {
   "cell_type": "markdown",
   "metadata": {
    "collapsed": true
   },
   "source": [
    "- MCMC is the most powerful tool in statistics\n",
    "- Metropolis id in top 10 algorithms of 20th century (Metropolis, Rosenbluth, Teller and Teller, 1953)\n",
    "\n",
    "- MCMC for dummies by Thomas Wiecki: http://twiecki.github.io/blog/2015/11/10/mcmc-sampling\n",
    "\n",
    "- Markov Chain Monte Carlo and the Metropolis Alogorithm by Jeff Picton: https://www.youtube.com/watch?v=h1NOS_wxgGg\n",
    "\n",
    "- How to be Baysian in Python by Jake Vanderplas: http://jakevdp.github.io/blog/2014/06/14/frequentism-and-bayesianism-4-bayesian-in-python/\n",
    "\n",
    "Gradient descent gives one value but does not say anything about variance/error. It just finds minimum of the best parameter $\\theta$, not the error. To see the variance we need a distribution. But distributions are typically very expensive to sample all values enough times. Imagine 20 parameters, 20 dimensional space, sampling N^20."
   ]
  },
  {
   "cell_type": "markdown",
   "metadata": {},
   "source": [
    "Bayes' theorem\n",
    "--------------\n",
    "$$ \\underbrace{P(\\theta \\mid D)}_{posterior} = \\frac{ \\overbrace{P(D \\mid \\theta) }^{Likelihood}\\, \\overbrace{P(\\theta)}^{Prior}}{\\underbrace{P(D)}_{Model~ evidence}} $$\n",
    "\n",
    "$$P(D) = \\int P(D | \\theta) P(\\theta) d\\theta$$ Model evidence, night mare to compute"
   ]
  },
  {
   "cell_type": "markdown",
   "metadata": {},
   "source": [
    "### Monte Carlo\n",
    "\n",
    "- origin in Los Alamos casinos visited by astronomers\n",
    "- replacing integrals with averaged sums (discrete - ready for computer simulations)\n",
    "- random sampling, random walks, random shooting (interpret probability as area)"
   ]
  },
  {
   "cell_type": "markdown",
   "metadata": {},
   "source": [
    "$P(data) = \\int P(data | \\theta) P(\\theta) d\\theta \\rightarrow \\Sigma_0^N$ but often **still very very nasty**. One has to include all combinations.\n",
    "\n",
    "What is the chance to win any given game of solitaire?\n",
    " \n",
    "$52! = 10^{67}$ configurations, number of atoms in Milky Way\n",
    "\n",
    "**Solution: Sampling!**\n",
    "\n",
    "*\"Generate samples from the posterior distribution (in which we don't know the amplitude) by constructing a Markov chain that has as its equilibrium distribution the target posterior distribution.\"*\n",
    "\n",
    "Random walk through the probability distribution, favouring values with higher probabilites\n",
    "\n",
    "\n"
   ]
  },
  {
   "cell_type": "markdown",
   "metadata": {},
   "source": [
    "How sampling from distribution that is impossible to calculate and close to impossible to sample can work?\n",
    "\n",
    "### Trick:\n",
    "\n",
    "**If it's difficult to sample from $\\sim g(x)$, we can sample from $\\sim q(x)$ and knowing $R(x) \\equiv \\frac{g(x)}{q(x)}$ we can apply $R(x)$ as the weights.**"
   ]
  },
  {
   "cell_type": "markdown",
   "metadata": {},
   "source": [
    "1. Starting point\n",
    "2. *Randomly* pick a nearby point and avaluate its probability.\n",
    "3. If the probability is higher than the point we are, we move to the point. Otherwise, we either stay or move to that point with some probability.\n",
    "\n",
    "If we repeat this long enough, we will hit every point in the space with a frequency proportional to its probability"
   ]
  },
  {
   "cell_type": "markdown",
   "metadata": {},
   "source": [
    "#### Markov Chain\n",
    "<img src=\"figures/mcmc-transitionmatrix.png\" width=\"50%\">\n",
    "\n",
    "$p(x_5 | x_4, x_3, x_2, x_1) = p(x_5 | x_4)$. No clusters (each point has a chance to be visited, irreducible), no cycles (aperiodic) graph.\n",
    "\n",
    "$\\nu_0 T^t \\rightarrow \\pi$ as $t\\rightarrow \\infty$\n",
    "\n",
    "where $T$ is the stochastic transition matrix. $\\nu$ is the initial vector of probabilities, $\\pi$ is the invariant or statinary distribution of the chain. It is unique."
   ]
  },
  {
   "cell_type": "markdown",
   "metadata": {},
   "source": [
    "1. initialise $x_0$\n",
    "2. for $i$ in range($N$):\n",
    "   - sample $u \\sim U(0,1)$\n",
    "   - sample $x^* \\sim q(x^*| x_i )$ proposal point (dependent only on our current position)\n",
    "   - calculate acceptance ratio $$R(x_i, x^*) \\equiv \\frac{p(x^*) q(x_i | x^*)}  { p(x_i) q(x^* | x_i )}$$\n",
    "   - if $u < A(x_i, x^*) = min(1,  R(x_i, x^*)$\n",
    "\n",
    "       $x_{i+1} = x^*$\n",
    "\n",
    "     else\n",
    "\n",
    "      $x_{i+1} = x_i$\n",
    "     \n",
    "Metropolis hastings version of the algorithm $q(x_i | x^*) = q(x^* | x_i )$, probability depend only on distance, not direction"
   ]
  },
  {
   "cell_type": "markdown",
   "metadata": {},
   "source": [
    "#### Python libraries\n",
    "\n",
    "- PyMC\n",
    "- emcee\n",
    "\n",
    "We will use emcee in this notebook. Installation is as simple as (once you have *pip*)\n",
    "\n",
    "    $ pip install emcee"
   ]
  },
  {
   "cell_type": "code",
   "execution_count": 198,
   "metadata": {
    "collapsed": false
   },
   "outputs": [
    {
     "data": {
      "image/png": "[encoded data removed]",
      "text/plain": [
       "<matplotlib.figure.Figure at 0x127aab510>"
      ]
     },
     "metadata": {},
     "output_type": "display_data"
    }
   ],
   "source": [
    "# let's try if it works on a trivial example, sampling from Gaussian of zero mean and std 1\n",
    "# the proposal function will be Gaussian with sigma = 0.05\n",
    "from scipy.stats import norm\n",
    "import random\n",
    "\n",
    "np.random.seed(1)\n",
    "\n",
    "N = 30000\n",
    "x = np.zeros(N)\n",
    "x[0] = 0.5\n",
    "sigma = 0.05\n",
    "for i in range(N-1):\n",
    "    x_c = sigma*norm.rvs() + x[i]\n",
    "    #print x[i], x_c\n",
    "    if np.random.rand() < norm.pdf(x_c)/norm.pdf(x[i]):\n",
    "        x[i+1] = x_c\n",
    "    else:\n",
    "        x[i+1] = x[i]\n",
    "plt.hist(x);"
   ]
  },
  {
   "cell_type": "markdown",
   "metadata": {},
   "source": [
    "### Why does this make sense?\n",
    "\n",
    "Think of acceptence ratio as a ratio of posterior probabilites. The hard to solve integral summing all possoble combinations of models (model evidence) cancels out.\n",
    "\n",
    "$$\n",
    "\\frac\n",
    "{\\frac{P(x~|~\\mu) P(\\mu)}{P(x)}}\n",
    "{\\frac{P(x~|~\\mu_0) P(\\mu_0)}{P(x)}}\n",
    "=\n",
    "\\frac{P(x~|~\\mu) P(\\mu)}{P(x~|~\\mu_0) P(\\mu_0)}\n",
    "$$\n",
    "\n",
    "We are visiting regions of high posterior *relatively* more often than those of low posterior probability."
   ]
  },
  {
   "cell_type": "markdown",
   "metadata": {},
   "source": [
    "### Fitting a model with outliers (more parameters than values)"
   ]
  },
  {
   "cell_type": "code",
   "execution_count": 79,
   "metadata": {
    "collapsed": false
   },
   "outputs": [
    {
     "data": {
      "image/png": "[encoded data removed]",
      "text/plain": [
       "<matplotlib.figure.Figure at 0x11c3503d0>"
      ]
     },
     "metadata": {},
     "output_type": "display_data"
    }
   ],
   "source": [
    "rng = np.random.RandomState(42)\n",
    "theta = [-10, 2]\n",
    "x = 10 * rng.rand(10)\n",
    "dy = 2 + 2 * rng.rand(10)\n",
    "y = theta[0] + theta[1] * x + dy * rng.randn(10)\n",
    "y[4] += 15\n",
    "y[7] -= 10\n",
    "plt.errorbar(x, y, dy, fmt='ok', ecolor='gray');"
   ]
  },
  {
   "cell_type": "markdown",
   "metadata": {},
   "source": [
    "If we try to fit a line using the standard $\\chi^2$ minimization approach, we will find an obviously biased result, because $\\chi^2$ is not robust to the presence of outliers."
   ]
  },
  {
   "cell_type": "code",
   "execution_count": 80,
   "metadata": {
    "collapsed": false
   },
   "outputs": [
    {
     "data": {
      "image/png": "[encoded data removed]",
      "text/plain": [
       "<matplotlib.figure.Figure at 0x11bcf1fd0>"
      ]
     },
     "metadata": {},
     "output_type": "display_data"
    }
   ],
   "source": [
    "from scipy import optimize\n",
    "\n",
    "def chi2(theta, x=x, y=y, dy=dy):\n",
    "    y_model = theta[0] + theta[1] * x\n",
    "    return np.sum(0.5 * ((y - y_model) / dy) ** 2)\n",
    "\n",
    "theta1 = optimize.fmin(chi2, [0, 0], disp=False)\n",
    "\n",
    "xfit = np.linspace(0, 10)\n",
    "plt.errorbar(x, y, dy, fmt='ok', ecolor='gray')\n",
    "plt.plot(xfit, theta1[0] + theta1[1] * xfit, '-k')\n",
    "plt.title('Standard $\\chi^2$ Minimization');"
   ]
  },
  {
   "cell_type": "markdown",
   "metadata": {},
   "source": [
    "### Bayesian Workaround\n",
    "\n",
    "Let's propose a model which somehow accounts for the possibility that each of these points *may* be the result of a biased measurement:\n",
    "\n",
    "Add $N$ new model parameters, one associated with each point which indicates whether it is an outlier or not.\n",
    "If it is an outlier, we use the standard model likelihood; if not, we use a likelihood with a much larger error.\n",
    "\n",
    "The result for our straight-line fit will be a model with $N + 2$ parameters, where $N$ is the number of data points.\n",
    "\n",
    "But how can we solve an underdetermine system?"
   ]
  },
  {
   "cell_type": "markdown",
   "metadata": {},
   "source": [
    "### The Mathematics of Underdetermined Models\n",
    "\n",
    "Mathematics behind these linear models.\n",
    "Going back to the simple straight-line fit, we have our model\n",
    "\n",
    "$$\n",
    "y_M(x~|~\\theta) = \\theta_0 + \\theta_1 x\n",
    "$$\n",
    "\n",
    "where we've replaced our slope $m$ and intercept $b$ by a more generalizable parameter vector $\\theta = [\\theta_0, \\theta_1]$.\n",
    "Given some set of data $\\{x_n, y_n\\}_{n=1}^N$ we'd like to find $\\theta$ which gives the best fit.\n",
    "For reasons I'll not discuss here, this is usually done by minimizing the sum of squared residuals from each data point, often called the $\\chi^2$ of the model in reference to its expected theoretical distribution:\n",
    "\n",
    "$$\n",
    "\\chi^2 = \\sum_{n=1}^N [y_n - y_M(x_n~|~\\theta)]^2\n",
    "$$"
   ]
  },
  {
   "cell_type": "markdown",
   "metadata": {},
   "source": [
    "We can make some progress by re-expressing this model in terms of matrices and vectors; we'll define the vector of $y$ values:\n",
    "\n",
    "$$\n",
    "y = [y_1, y_2, y_3, \\cdots y_N]\n",
    "$$\n",
    "\n",
    "We'll also define the design matrix $X$; this contains all the information about the form of the model:\n",
    "\n",
    "$$\n",
    "X = \\left[\n",
    "\\begin{array}{ll}\n",
    " 1 & x_1 \\\\\n",
    " 1 & x_2 \\\\\n",
    " \\vdots &\\vdots \\\\\n",
    " 1 & x_N \\\\\n",
    "\\end{array}\n",
    "\\right]\n",
    "$$\n",
    "\n",
    "With this formalism, the vector of model values can be expressed as a matrix-vector product:\n",
    "\n",
    "$$\n",
    "y_M = X\\theta\n",
    "$$\n",
    "\n",
    "and the $\\chi^2$ can be expressed as a simple linear product as well:\n",
    "\n",
    "$$\n",
    "\\chi^2 = (y - X\\theta)^T(y - X\\theta)\n",
    "$$"
   ]
  },
  {
   "cell_type": "markdown",
   "metadata": {},
   "source": [
    "We'd like to minimize the $\\chi^2$ with respect to the parameter vector $\\theta$, which we can do by the normal means of differentiating with respect to the vector $\\theta$ and setting the result to zero (yes, you can take the derivative with respect to a vector!):\n",
    "\n",
    "$$\n",
    "\\frac{d\\chi^2}{d\\theta} = -2X^T(y - X\\theta) = 0\n",
    "$$\n",
    "\n",
    "Solving this for $\\theta$ gives the *Maximum Likelihood Estimate (MLE)* for the parameters,\n",
    "\n",
    "$$\n",
    "\\hat{\\theta}_{MLE} = [X^T X]^{-1} X^T y\n",
    "$$\n",
    "\n",
    "Though this matrix formalism may seem a bit over-complicated, the nice part is that it straightforwardly generalizes to a host of more sophisticated linear models.\n",
    "For example, the cubic model considered above requires only a larger design matrix $X$:\n",
    "\n",
    "$$\n",
    "X = \\left[\n",
    "\\begin{array}{llll}\n",
    " 1 & x_1 & x_1^2 & x_1^3\\\\\n",
    " 1 & x_2 & x_2^2 & x_2^3\\\\\n",
    " \\vdots & \\vdots & \\vdots & \\vdots\\\\\n",
    " 1 & x_N & x_N^2 & x_N^3\\\\\n",
    "\\end{array}\n",
    "\\right]\n",
    "$$\n",
    "\n",
    "The added model complexity is completely encapsulated in the design matrix, and the expression to compute $\\hat{\\theta}_{MLE}$ from $X$ is unchanged!"
   ]
  },
  {
   "cell_type": "markdown",
   "metadata": {},
   "source": [
    "### Why Underdetermined Models Break\n",
    "\n",
    "Taking a look at this Maximum Likelihood solution for $\\theta$, we see that there is only one place that it might go wrong: the inversion of the matrix $X^T X$.\n",
    "If this matrix is not invertible (i.e. if it is a singular matrix) then the maximum likelihood solution will not be well-defined.\n",
    "\n",
    "The number of rows in $X$ corresponds to the number of data points, and the number of columns in $X$ corresponds to the number of parameters in the model.\n",
    "It turns out that a matrix $C = X^TX$ will *always* be singular if $X$ has fewer rows than columns, and this is the source of the problem.\n",
    "For underdetermined models, $X^TX$ is a singular matrix, and so the maximum likelihood fit is not well-defined.\n",
    "\n",
    "Let's inspect it on line fitting model through 1 point:"
   ]
  },
  {
   "cell_type": "code",
   "execution_count": 208,
   "metadata": {
    "collapsed": true
   },
   "outputs": [],
   "source": [
    "X = np.array([[1., 2.]])"
   ]
  },
  {
   "cell_type": "code",
   "execution_count": 209,
   "metadata": {
    "collapsed": false
   },
   "outputs": [
    {
     "data": {
      "text/plain": [
       "array([[ 1.,  2.],\n",
       "       [ 2.,  4.]])"
      ]
     },
     "execution_count": 209,
     "metadata": {},
     "output_type": "execute_result"
    }
   ],
   "source": [
    "C = np.dot(X.T, X)\n",
    "C"
   ]
  },
  {
   "cell_type": "code",
   "execution_count": 210,
   "metadata": {
    "collapsed": false
   },
   "outputs": [
    {
     "ename": "LinAlgError",
     "evalue": "Singular matrix",
     "output_type": "error",
     "traceback": [
      "\u001b[0;31m---------------------------------------------------------------------------\u001b[0m",
      "\u001b[0;31mLinAlgError\u001b[0m                               Traceback (most recent call last)",
      "\u001b[0;32m<ipython-input-210-397368e4b4a6>\u001b[0m in \u001b[0;36m<module>\u001b[0;34m()\u001b[0m\n\u001b[0;32m----> 1\u001b[0;31m \u001b[0mC_inv\u001b[0m \u001b[0;34m=\u001b[0m \u001b[0mnp\u001b[0m\u001b[0;34m.\u001b[0m\u001b[0mlinalg\u001b[0m\u001b[0;34m.\u001b[0m\u001b[0minv\u001b[0m\u001b[0;34m(\u001b[0m\u001b[0mC\u001b[0m\u001b[0;34m)\u001b[0m\u001b[0;34m\u001b[0m\u001b[0m\n\u001b[0m\u001b[1;32m      2\u001b[0m \u001b[0mC_inv\u001b[0m\u001b[0;34m\u001b[0m\u001b[0m\n",
      "\u001b[0;32m/Users/toast/anaconda/lib/python2.7/site-packages/numpy/linalg/linalg.pyc\u001b[0m in \u001b[0;36minv\u001b[0;34m(a)\u001b[0m\n\u001b[1;32m    524\u001b[0m     \u001b[0msignature\u001b[0m \u001b[0;34m=\u001b[0m \u001b[0;34m'D->D'\u001b[0m \u001b[0;32mif\u001b[0m \u001b[0misComplexType\u001b[0m\u001b[0;34m(\u001b[0m\u001b[0mt\u001b[0m\u001b[0;34m)\u001b[0m \u001b[0;32melse\u001b[0m \u001b[0;34m'd->d'\u001b[0m\u001b[0;34m\u001b[0m\u001b[0m\n\u001b[1;32m    525\u001b[0m     \u001b[0mextobj\u001b[0m \u001b[0;34m=\u001b[0m \u001b[0mget_linalg_error_extobj\u001b[0m\u001b[0;34m(\u001b[0m\u001b[0m_raise_linalgerror_singular\u001b[0m\u001b[0;34m)\u001b[0m\u001b[0;34m\u001b[0m\u001b[0m\n\u001b[0;32m--> 526\u001b[0;31m     \u001b[0mainv\u001b[0m \u001b[0;34m=\u001b[0m \u001b[0m_umath_linalg\u001b[0m\u001b[0;34m.\u001b[0m\u001b[0minv\u001b[0m\u001b[0;34m(\u001b[0m\u001b[0ma\u001b[0m\u001b[0;34m,\u001b[0m \u001b[0msignature\u001b[0m\u001b[0;34m=\u001b[0m\u001b[0msignature\u001b[0m\u001b[0;34m,\u001b[0m \u001b[0mextobj\u001b[0m\u001b[0;34m=\u001b[0m\u001b[0mextobj\u001b[0m\u001b[0;34m)\u001b[0m\u001b[0;34m\u001b[0m\u001b[0m\n\u001b[0m\u001b[1;32m    527\u001b[0m     \u001b[0;32mreturn\u001b[0m \u001b[0mwrap\u001b[0m\u001b[0;34m(\u001b[0m\u001b[0mainv\u001b[0m\u001b[0;34m.\u001b[0m\u001b[0mastype\u001b[0m\u001b[0;34m(\u001b[0m\u001b[0mresult_t\u001b[0m\u001b[0;34m,\u001b[0m \u001b[0mcopy\u001b[0m\u001b[0;34m=\u001b[0m\u001b[0mFalse\u001b[0m\u001b[0;34m)\u001b[0m\u001b[0;34m)\u001b[0m\u001b[0;34m\u001b[0m\u001b[0m\n\u001b[1;32m    528\u001b[0m \u001b[0;34m\u001b[0m\u001b[0m\n",
      "\u001b[0;32m/Users/toast/anaconda/lib/python2.7/site-packages/numpy/linalg/linalg.pyc\u001b[0m in \u001b[0;36m_raise_linalgerror_singular\u001b[0;34m(err, flag)\u001b[0m\n\u001b[1;32m     88\u001b[0m \u001b[0;34m\u001b[0m\u001b[0m\n\u001b[1;32m     89\u001b[0m \u001b[0;32mdef\u001b[0m \u001b[0m_raise_linalgerror_singular\u001b[0m\u001b[0;34m(\u001b[0m\u001b[0merr\u001b[0m\u001b[0;34m,\u001b[0m \u001b[0mflag\u001b[0m\u001b[0;34m)\u001b[0m\u001b[0;34m:\u001b[0m\u001b[0;34m\u001b[0m\u001b[0m\n\u001b[0;32m---> 90\u001b[0;31m     \u001b[0;32mraise\u001b[0m \u001b[0mLinAlgError\u001b[0m\u001b[0;34m(\u001b[0m\u001b[0;34m\"Singular matrix\"\u001b[0m\u001b[0;34m)\u001b[0m\u001b[0;34m\u001b[0m\u001b[0m\n\u001b[0m\u001b[1;32m     91\u001b[0m \u001b[0;34m\u001b[0m\u001b[0m\n\u001b[1;32m     92\u001b[0m \u001b[0;32mdef\u001b[0m \u001b[0m_raise_linalgerror_nonposdef\u001b[0m\u001b[0;34m(\u001b[0m\u001b[0merr\u001b[0m\u001b[0;34m,\u001b[0m \u001b[0mflag\u001b[0m\u001b[0;34m)\u001b[0m\u001b[0;34m:\u001b[0m\u001b[0;34m\u001b[0m\u001b[0m\n",
      "\u001b[0;31mLinAlgError\u001b[0m: Singular matrix"
     ]
    }
   ],
   "source": [
    "C_inv = np.linalg.inv(C)\n",
    "C_inv"
   ]
  },
  {
   "cell_type": "code",
   "execution_count": 207,
   "metadata": {
    "collapsed": false
   },
   "outputs": [
    {
     "data": {
      "text/plain": [
       "array([[ 0.,  0.],\n",
       "       [ 0.,  0.]])"
      ]
     },
     "execution_count": 207,
     "metadata": {},
     "output_type": "execute_result"
    }
   ],
   "source": [
    "np.dot(C_inv, C)"
   ]
  },
  {
   "cell_type": "code",
   "execution_count": 212,
   "metadata": {
    "collapsed": false
   },
   "outputs": [
    {
     "data": {
      "text/plain": [
       "48048573075471168.0"
      ]
     },
     "execution_count": 212,
     "metadata": {},
     "output_type": "execute_result"
    }
   ],
   "source": [
    "np.linalg.cond(C)"
   ]
  },
  {
   "cell_type": "code",
   "execution_count": 218,
   "metadata": {
    "collapsed": false
   },
   "outputs": [
    {
     "data": {
      "text/plain": [
       "True"
      ]
     },
     "execution_count": 218,
     "metadata": {},
     "output_type": "execute_result"
    }
   ],
   "source": [
    "np.abs(np.linalg.cond(C)) > 1./ np.finfo(C.dtype).eps\n",
    "# warning that we are touching computer precision"
   ]
  },
  {
   "cell_type": "markdown",
   "metadata": {},
   "source": [
    "### Fixing an Underdetermined Model: Conditioning\n",
    "\n",
    "One easy way to make a singular matrix invertible is to *condition* it: that is, you add to it some multiple of the identity matrix before performing the inversion (in many ways this is equivalent to \"fixing\" a divide-by-zero error by adding a small value to the denominator).\n",
    "Mathematically, that looks like this:\n",
    "\n",
    "$$\n",
    "C = X^TX + \\sigma I\n",
    "$$\n",
    "\n",
    "For example, by adding $\\sigma = 10^{-3}$ to the diagonal of the normal matrix, we condition the matrix so that it can be inverted:"
   ]
  },
  {
   "cell_type": "code",
   "execution_count": 219,
   "metadata": {
    "collapsed": false
   },
   "outputs": [
    {
     "data": {
      "text/plain": [
       "array([[ 800.039992  , -399.920016  ],\n",
       "       [-399.920016  ,  200.15996801]])"
      ]
     },
     "execution_count": 219,
     "metadata": {},
     "output_type": "execute_result"
    }
   ],
   "source": [
    "cond = 1E-3 * np.eye(2)\n",
    "np.linalg.inv(C + cond)"
   ]
  },
  {
   "cell_type": "code",
   "execution_count": 220,
   "metadata": {
    "collapsed": false
   },
   "outputs": [
    {
     "name": "stdout",
     "output_type": "stream",
     "text": [
      "Conditioned best-fit model:\n",
      "y = 0.380 x + 0.190\n"
     ]
    }
   ],
   "source": [
    "b, m = np.linalg.solve(C + cond,\n",
    "                       np.dot(X.T, [0.95]))\n",
    "print(\"Conditioned best-fit model:\")\n",
    "print(\"y = {0:.3f} x + {1:.3f}\".format(m, b))"
   ]
  },
  {
   "cell_type": "markdown",
   "metadata": {},
   "source": [
    "## Frequentist Conditioning: Regularization\n",
    "\n",
    "In a frequentist approach, this type of conditioning is known as *regularization*.\n",
    "Regularization is motivated by a desire to penalize large values of model parameters.\n",
    "For example, in the underdetermined fit above (with $(x, y) = (0.37, 0.95)$), you could fit the data perfectly with a slope of one billion and an intercept near negative 370 million, but in most real-world applications this would be a silly fit.\n",
    "To prevent this sort of canceling parameter divergence, in a frequentist setting you can \"regularize\" the model by adding a penalty term to the $\\chi^2$; one popular choice is a penalty term proportional to the sum of squares of the model parameters themselves:\n",
    "\n",
    "$$\n",
    "\\chi^2_{reg} = \\chi^2 + \\lambda~\\theta^T\\theta\n",
    "$$\n",
    "\n",
    "Here $\\lambda$ is the degree of regularization, which must be chosen by the person implementing the model.\n",
    "\n",
    "Using the expression for the regularized $\\chi^2$, we can minimize with respect to $\\theta$ by again taking the derivative and setting it equal to zero:\n",
    "\n",
    "$$\n",
    "\\frac{d\\chi^2}{d\\theta} = -2[X^T(y - X\\theta) - \\lambda\\theta] = 0\n",
    "$$\n",
    "\n",
    "This leads to the following regularized maximum likelihood estimate for $\\theta$:\n",
    "\n",
    "$$\n",
    "\\hat{\\theta}_{MLE} = [X^TX + \\lambda I]^{-1} X^T y\n",
    "$$\n",
    "\n",
    "\n",
    "- *L2-regularization* or *Ridge Regularization*"
   ]
  },
  {
   "cell_type": "markdown",
   "metadata": {},
   "source": [
    "## Bayesian Conditioning: Priors\n",
    "\n",
    "Regularization illuminates the meaning of matrix conditioning, but it still sometimes seems like a bit of black magic.\n",
    "What does this penalization of model parameters within the $\\chi^2$ actually mean?\n",
    "Here, we can make progress in understanding the problem by examining regularization from a Bayesian perspective.\n",
    "\n",
    "The Bayesian posterior probability on the model parameters $\\theta$ is given by\n",
    "\n",
    "$$\n",
    "P(\\theta~|~D, M) = \\frac{P(D~|~\\theta, M) P(\\theta~|~M)}{P(D~|~M)}\n",
    "$$\n",
    "\n",
    "where the most important terms are the likelihood $P(D~|~\\theta, M)$ and the prior $P(\\theta~|~M)$.\n",
    "From the expected correspondence with the frequentist result, we can write:\n",
    "\n",
    "$$\n",
    "P(D~|~\\theta, M) P(\\theta~|~M) \\propto \\exp[- \\chi^2]\n",
    "$$\n",
    "\n",
    "Because the term on the right-hand-side has no $\\theta$ dependence, we can immediately see that\n",
    "\n",
    "$$\n",
    "P(D~|~\\theta, M) \\propto \\exp[-\\chi^2]\\\\\n",
    "P(\\theta~|~M)  \\propto 1\n",
    "$$\n",
    "\n",
    "That is, the simple frequentist likelihood is equivalent to the Bayesian posterior for the model with an implicit flat prior on $\\theta$."
   ]
  },
  {
   "cell_type": "markdown",
   "metadata": {},
   "source": [
    "To understand the meaning of regularization, let's repeat this exercise with the regularized $\\chi^2$:\n",
    "\n",
    "$$\n",
    "P(D~|~\\theta, M) P(\\theta~|~M) \\propto \\exp[- \\chi^2 - \\lambda~|\\theta|^2]\n",
    "$$\n",
    "\n",
    "The regularization term in the $\\chi^2$ becomes a second term in the product which depends only on $\\theta$, thus we can immediately write\n",
    "\n",
    "$$\n",
    "P(D~|~\\theta, M) \\propto \\exp[-\\chi^2]\\\\\n",
    "P(\\theta~|~M)  \\propto \\exp[- \\lambda~|\\theta|^2]\n",
    "$$\n",
    "\n",
    "**Ridge regularization is equivalent to applying a Gaussian prior to your model parameters, centered at $\\theta=0$ and with a width $\\sigma_P = (2\\lambda)^{-2}$.**\n",
    "\n",
    "Regularization is simply a roundabout way of adding a Bayesian prior within a frequentist paradigm. The stronger the regularization, the narrower the implicit Gaussian prior is.\n",
    "\n",
    "If you have reason to believe your slope is near 1, but have no prior information on your intercept? In the Bayesian approach, it is easy to add such information to your model in a rigorous way."
   ]
  },
  {
   "cell_type": "markdown",
   "metadata": {},
   "source": [
    "You can fit models with more parameters than data points, if you restrict your parameter space through the use of frequentist regularization or Bayesian priors. We can write the posterior, it's complicated, however we can derive it by MCMC sampling!"
   ]
  },
  {
   "cell_type": "markdown",
   "metadata": {},
   "source": [
    "#### back to our example..."
   ]
  },
  {
   "cell_type": "markdown",
   "metadata": {},
   "source": [
    "Our linear model is:\n",
    "\n",
    "$$\n",
    "y_M(x~|~\\theta) = \\theta_0 + \\theta_1 x\n",
    "$$\n",
    "\n",
    "For a non-outlier (let's call it an \"inlier\") point at $x$, $y$, with error on $y$ given by $dy$, the likelihood is\n",
    "\n",
    "$$\n",
    "L_{in, i}(D~|~\\theta) = \\frac{1}{\\sqrt{2\\pi dy_i^2}} \\exp\\frac{-[y_i - y_M(x_i~|~\\theta)]^2}{2 dy_i^2}\n",
    "$$\n",
    "\n",
    "For an \"outlier\" point, the likelihood is\n",
    "\n",
    "$$\n",
    "L_{out, i}(D~|~\\theta) = \\frac{1}{\\sqrt{2\\pi \\sigma_y^2}} \\exp\\frac{-[y_i - y_M(x_i~|~\\theta)]^2}{2 \\sigma_y^2}\n",
    "$$\n",
    "\n",
    "where $\\sigma_y$ is the standard deviation of the $y$ data: note that the only difference between the \"inlier\" and \"outlier\" likelihood is the width of the Gaussian distribution."
   ]
  },
  {
   "cell_type": "markdown",
   "metadata": {},
   "source": [
    "Now we'll specify $N$ additional binary model parameters $\\{g_i\\}_{i=1}^N$ which indicate whether point $i$ is an outlier $(g_i = 1)$ or an inlier $(g_i = 0)$.\n",
    "With this, the overall Likelihood becomes:\n",
    "\n",
    "$$\n",
    "L(D~|~\\theta, g) = \\prod_i \\left[(1 - g_i)~L_{in, i} + g_i~L_{out, i}\\right]\n",
    "$$\n",
    "\n",
    "We will put a prior on these indicator variables $g$ which encourages sparsity of outliers; this can be accomplished with a simple L1 prior, which penalizes the sum of the $g$ terms:\n",
    "\n",
    "$$\n",
    "P(g) = \\exp\\left[-\\sum_i g_i\\right]\n",
    "$$\n",
    "\n",
    "where, recall, $g_i \\in \\{0, 1\\}$."
   ]
  },
  {
   "cell_type": "markdown",
   "metadata": {},
   "source": [
    "Because *emcee* doesn't have categorical variables, we'll instead allow $g_i$ to range continuously between 0 and 1, so that any single point will be some mixture of \"outlier\" and \"inlier\".\n",
    "\n",
    "Define a function which computes the log-posterior given the data and model parameters, using some computational tricks for the sake of floating-point accuracy:"
   ]
  },
  {
   "cell_type": "code",
   "execution_count": 225,
   "metadata": {
    "collapsed": true
   },
   "outputs": [],
   "source": [
    "# theta will be an array of length 2 + N, where N is the number of points\n",
    "# theta[0] is the intercept, theta[1] is the slope,\n",
    "# and theta[2 + i] is the weight g_i\n",
    "\n",
    "def log_prior(theta):\n",
    "    g = theta[2:]\n",
    "    #g_i needs to be between 0 and 1\n",
    "    if (np.any(g < 0) or np.any(g > 1)):\n",
    "        return -np.inf # recall log(0) = -inf\n",
    "    else:\n",
    "        return -g.sum()\n",
    "\n",
    "def log_likelihood(theta, x, y, dy):\n",
    "    sigma_y = np.std(y)\n",
    "    y_model = theta[0] + theta[1] * x\n",
    "    g = np.clip(theta[2:], 0, 1)  # g<0 or g>1 leads to NaNs in logarithm\n",
    "    # log-likelihood for in-lier\n",
    "    logL_in = -0.5 * (np.log(2 * np.pi * dy ** 2) + ((y - y_model) / dy)** 2)\n",
    "    # log-likelihood for outlier\n",
    "    logL_out = -0.5 * (np.log(2 * np.pi * sigma_y ** 2) + ((y - y_model) / sigma_y) ** 2)\n",
    "    return np.sum(np.logaddexp(np.log(1 - g) + logL_in,\n",
    "                               np.log(g) + logL_out))\n",
    "\n",
    "def log_posterior(theta, x, y, dy):\n",
    "    return log_prior(theta) + log_likelihood(theta, x, y, dy)"
   ]
  },
  {
   "cell_type": "code",
   "execution_count": 82,
   "metadata": {
    "collapsed": true
   },
   "outputs": [],
   "source": [
    "import emcee\n",
    "\n",
    "ndim = 2 + len(x)  # number of parameters in the model\n",
    "nwalkers = 50  # number of MCMC walkers\n",
    "nburn = 10000  # \"burn-in\" period to let chains stabilize\n",
    "nsteps = 15000  # number of MCMC steps to take\n",
    "\n",
    "# set walkers near the maximum likelihood\n",
    "# adding some random scatter\n",
    "rng = np.random.RandomState(0)\n",
    "starting_guesses = np.zeros((nwalkers, ndim))\n",
    "starting_guesses[:, :2] = rng.normal(theta1, 1, (nwalkers, 2))\n",
    "starting_guesses[:, 2:] = rng.normal(0.5, 0.1, (nwalkers, ndim - 2))\n",
    "\n",
    "sampler = emcee.EnsembleSampler(nwalkers, ndim, log_posterior, args=[x, y, dy])\n",
    "sampler.run_mcmc(starting_guesses, nsteps)\n",
    "\n",
    "sample = sampler.chain  # shape = (nwalkers, nsteps, ndim)\n",
    "sample = sampler.chain[:, nburn:, :].reshape(-1, ndim)"
   ]
  },
  {
   "cell_type": "code",
   "execution_count": 83,
   "metadata": {
    "collapsed": false
   },
   "outputs": [
    {
     "data": {
      "image/png": "[encoded data removed]",
      "text/plain": [
       "<matplotlib.figure.Figure at 0x11c2b25d0>"
      ]
     },
     "metadata": {},
     "output_type": "display_data"
    }
   ],
   "source": [
    "plt.plot(sample[:, 0], sample[:, 1], ',k', alpha=0.1)\n",
    "plt.xlabel('intercept')\n",
    "plt.ylabel('slope');"
   ]
  },
  {
   "cell_type": "code",
   "execution_count": 97,
   "metadata": {
    "collapsed": false
   },
   "outputs": [
    {
     "data": {
      "image/png": "[encoded data removed]",
      "text/plain": [
       "<matplotlib.figure.Figure at 0x11c347450>"
      ]
     },
     "metadata": {},
     "output_type": "display_data"
    }
   ],
   "source": [
    "theta2 = np.mean(sample[:, :2], 0)\n",
    "g = np.mean(sample[:, 2:], 0)\n",
    "outliers = (g > 0.5)\n",
    "\n",
    "plt.errorbar(x, y, dy, fmt='ok', ecolor='gray')\n",
    "plt.plot(xfit, theta1[0] + theta1[1] * xfit, color='gray')\n",
    "plt.plot(xfit, theta2[0] + theta2[1] * xfit, color='black')\n",
    "plt.plot(x[outliers], y[outliers], 'ro', ms=20 , mew=1, mfc='none', mec='red')\n",
    "plt.title('Bayesian Fit');"
   ]
  },
  {
   "cell_type": "markdown",
   "metadata": {},
   "source": [
    "Notice that we have successfully fit an (N+2)-parameter model to N data points, and the best-fit parameters are actually meaningful in a deep way – the N extra parameters give us individual estimates of whether each of the N data points has misreported errors."
   ]
  },
  {
   "cell_type": "markdown",
   "metadata": {},
   "source": [
    "The same using PyMC Python package: http://www.astroml.org/book_figures/chapter8/fig_outlier_rejection.html"
   ]
  },
  {
   "cell_type": "markdown",
   "metadata": {
    "collapsed": false
   },
   "source": [
    "<img src=\"figures/wumo3.jpg\">"
   ]
  },
  {
   "cell_type": "markdown",
   "metadata": {},
   "source": [
    "## Take-away Messages\n",
    "\n",
    "1. Monte Carlo is a holy grail of statistical data analysis and parameter determination (with the help of Baysian view of statistics)\n",
    "2. It's much simpler to simulate distribution (random draws, random walks etc.) than calculate it.\n",
    "3. Direct sampling, Shuffling, Bootstrapping (random draws with repetition), Cross-Validation (train/test is the key in Machine Learning)\n",
    "4. MCMC hammer on N>>1 dimensional problems or complicated posteriors (probability density functions where we don't know how to calculate the absolute amplitudes - the normalisation integral. (MCMC is not fitting algorithm, it is a sampling algorithm)"
   ]
  },
  {
   "cell_type": "markdown",
   "metadata": {
    "collapsed": true
   },
   "source": [
    "## Fitting a line using Bayesian MCMC in *emcee* in Python\n",
    "\n",
    "Minimizing techniques would give you just the minimum - values of parameters and the total error. Because the best fit parameters are single values, you cannot the error estimate (you may use bootstrapping) but Bayesian (MCMC) approach returns paramater destributions, so error can be determined."
   ]
  },
  {
   "cell_type": "code",
   "execution_count": 192,
   "metadata": {
    "collapsed": true
   },
   "outputs": [],
   "source": [
    "np.random.seed(42)\n",
    "theta_true = (25, 0.5)\n",
    "xdata = 100 * np.random.random(20)\n",
    "ydata = theta_true[0] + theta_true[1] * xdata\n",
    "\n",
    "# add scatter to points\n",
    "xdata = np.random.normal(xdata, 10)\n",
    "ydata = np.random.normal(ydata, 10)"
   ]
  },
  {
   "cell_type": "code",
   "execution_count": 193,
   "metadata": {
    "collapsed": false
   },
   "outputs": [
    {
     "data": {
      "image/png": "[encoded data removed]",
      "text/plain": [
       "<matplotlib.figure.Figure at 0x11c490210>"
      ]
     },
     "metadata": {},
     "output_type": "display_data"
    }
   ],
   "source": [
    "plt.plot(xdata, ydata, 'ok')\n",
    "plt.xlabel('x')\n",
    "plt.ylabel('y');"
   ]
  },
  {
   "cell_type": "markdown",
   "metadata": {},
   "source": [
    "Recall that Bayes' theorem gives\n",
    "\n",
    "$$\n",
    "P(\\theta~|~D) \\propto P(D~|~\\theta) P(\\theta)\n",
    "$$\n",
    "\n",
    "Where $D$ represents the observed data, and $\\theta$ represents the model."
   ]
  },
  {
   "cell_type": "markdown",
   "metadata": {},
   "source": [
    "We'll assume a linear model for our data, parametrized by a slope $\\beta$ and a y-intercept $\\alpha$:\n",
    "\n",
    "$$\n",
    "\\hat{y}(x_i~|~\\alpha,\\beta) = \\alpha + \\beta x_i\n",
    "$$\n",
    "\n",
    "Assuming Gaussian errors on the observed y values, the probability for any data point under this model is given by:\n",
    "\n",
    "$$\n",
    "P(x_i, y_i~|~\\alpha, \\beta, \\sigma) = \\frac{1}{\\sqrt{2\\pi\\sigma^2}} \\exp\\left[\\frac{-[y_i - \\hat{y}(x_i~|~\\alpha, \\beta)]^2}{2\\sigma^2}\\right]\n",
    "$$\n",
    "\n",
    "where $\\sigma$ here is an unknown measurement error, which we'll treat as a nuisance parameter\n",
    "\n",
    "Multiplying these for all $i$ gives the likelihood:\n",
    "$$\n",
    "P(\\{x_i\\}, \\{y_i\\}~|~\\alpha, \\beta, \\sigma) \\propto (2\\pi\\sigma^2)^{-N/2} \\exp\\left[- \\frac{1}{2\\sigma^2} \\sum_{i-1}^N [y_i - \\hat{y}(x_i~|~\\alpha,\\beta)]^2\\right]\n",
    "$$"
   ]
  },
  {
   "cell_type": "markdown",
   "metadata": {},
   "source": [
    "### Priors\n",
    "\n",
    "A flat prior is not always the best, can turn to *black magic*\n",
    "\n",
    "Paper by Jaynes: *Straight Line Fitting: A Bayesian Solution* http://exordio.qfb.umich.mx/archivos%20pdf%20de%20trabajo%20umsnh/aphilosofia/bayesian%20importantes/leapz.pdf\n",
    "\n",
    "$$\n",
    "P(\\alpha, \\beta) \\propto (1 + \\beta^2)^{-3/2}.\n",
    "$$\n",
    "\n",
    "which is equivalent to saying that $\\alpha$ is uniformly distributed, and $\\beta$ is distributed uniformly in $\\sin\\theta$ where $\\theta = \\tan^{-1}\\beta$.\n",
    "\n",
    "This might surprise you that the slopes are distributed according to $\\sin\\theta$ rather than uniformly in $\\theta$. This $\\sin\\theta$ term, though, can actually be thought of as coming from the intercept!  If we change variables from $\\alpha$ to $\\alpha_\\perp = \\alpha\\cos\\theta$, then it's straightforward to show that our variables are uniformly distributed in $(\\alpha_\\perp,~\\theta)$. We'll make use of this fact in the PyStan solution below."
   ]
  },
  {
   "cell_type": "markdown",
   "metadata": {},
   "source": [
    "Similarly, we want the prior on $\\sigma$ to be invariant to rescalings of the problem (i.e. changing units). So our probability must satisfy\n",
    "\n",
    "$$\n",
    "P(\\sigma)d\\sigma = P(\\sigma / c)d\\sigma / c.\n",
    "$$\n",
    "\n",
    "This is a functional equation satisfied by \n",
    "\n",
    "$$\n",
    "P(\\sigma) \\propto 1 / \\sigma.\n",
    "$$\n",
    "\n",
    "This is known as the Jeffreys Prior http://en.wikipedia.org/wiki/Jeffreys_prior"
   ]
  },
  {
   "cell_type": "code",
   "execution_count": 185,
   "metadata": {
    "collapsed": true
   },
   "outputs": [],
   "source": [
    "# Create some convenience routines for plotting\n",
    "\n",
    "def compute_sigma_level(trace1, trace2, nbins=20):\n",
    "    \"\"\"From a set of traces, bin by number of standard deviations\"\"\"\n",
    "    L, xbins, ybins = np.histogram2d(trace1, trace2, nbins)\n",
    "    L[L == 0] = 1E-16\n",
    "    logL = np.log(L)\n",
    "\n",
    "    shape = L.shape\n",
    "    L = L.ravel()\n",
    "\n",
    "    # obtain the indices to sort and unsort the flattened array\n",
    "    i_sort = np.argsort(L)[::-1]\n",
    "    i_unsort = np.argsort(i_sort)\n",
    "\n",
    "    L_cumsum = L[i_sort].cumsum()\n",
    "    L_cumsum /= L_cumsum[-1]\n",
    "    \n",
    "    xbins = 0.5 * (xbins[1:] + xbins[:-1])\n",
    "    ybins = 0.5 * (ybins[1:] + ybins[:-1])\n",
    "\n",
    "    return xbins, ybins, L_cumsum[i_unsort].reshape(shape)\n",
    "\n",
    "\n",
    "def plot_MCMC_trace(ax, xdata, ydata, trace, scatter=False, **kwargs):\n",
    "    \"\"\"Plot traces and contours\"\"\"\n",
    "    xbins, ybins, sigma = compute_sigma_level(trace[0], trace[1])\n",
    "    ax.contour(xbins, ybins, sigma.T, levels=[0.683, 0.955], **kwargs)\n",
    "    if scatter:\n",
    "        ax.plot(trace[0], trace[1], ',k', alpha=0.1)\n",
    "    ax.set_xlabel(r'$\\alpha$')\n",
    "    ax.set_ylabel(r'$\\beta$')\n",
    "    \n",
    "    \n",
    "def plot_MCMC_model(ax, xdata, ydata, trace):\n",
    "    \"\"\"Plot the linear model and 2sigma contours\"\"\"\n",
    "    ax.plot(xdata, ydata, 'ok')\n",
    "\n",
    "    alpha, beta = trace[:2]\n",
    "    xfit = np.linspace(-20, 120, 10)\n",
    "    yfit = alpha[:, None] + beta[:, None] * xfit\n",
    "    mu = yfit.mean(0)\n",
    "    sig = 2 * yfit.std(0)\n",
    "\n",
    "    ax.plot(xfit, mu, '-k')\n",
    "    ax.fill_between(xfit, mu - sig, mu + sig, color='lightgray')\n",
    "\n",
    "    ax.set_xlabel('x')\n",
    "    ax.set_ylabel('y')\n",
    "\n",
    "\n",
    "def plot_MCMC_results(xdata, ydata, trace, colors='k'):\n",
    "    \"\"\"Plot both the trace and the model together\"\"\"\n",
    "    fig, ax = plt.subplots(1, 2, figsize=(10, 4))\n",
    "    plot_MCMC_trace(ax[0], xdata, ydata, trace, True, colors=colors)\n",
    "    plot_MCMC_model(ax[1], xdata, ydata, trace)"
   ]
  },
  {
   "cell_type": "markdown",
   "metadata": {},
   "source": []
  },
  {
   "cell_type": "code",
   "execution_count": 187,
   "metadata": {
    "collapsed": true
   },
   "outputs": [],
   "source": [
    "# Define our posterior using Python functions\n",
    "# for clarity, I've separated-out the prior and likelihood\n",
    "# but this is not necessary. Note that emcee requires log-posterior\n",
    "\n",
    "def log_prior(theta):\n",
    "    alpha, beta, sigma = theta\n",
    "    if sigma < 0:\n",
    "        return -np.inf  # log(0)\n",
    "    else:\n",
    "        return -1.5 * np.log(1 + beta ** 2) - np.log(sigma)\n",
    "\n",
    "def log_likelihood(theta, x, y):\n",
    "    alpha, beta, sigma = theta\n",
    "    y_model = alpha + beta * x\n",
    "    return -0.5 * np.sum(np.log(2 * np.pi * sigma ** 2) + (y - y_model) ** 2 / sigma ** 2)\n",
    "\n",
    "def log_posterior(theta, x, y):\n",
    "    return log_prior(theta) + log_likelihood(theta, x, y)"
   ]
  },
  {
   "cell_type": "code",
   "execution_count": 188,
   "metadata": {
    "collapsed": true
   },
   "outputs": [],
   "source": [
    "# Here we'll set up the computation. emcee combines multiple \"walkers\",\n",
    "# each of which is its own MCMC chain. The number of trace results will\n",
    "# be nwalkers * nsteps\n",
    "\n",
    "ndim = 3  # number of parameters in the model\n",
    "nwalkers = 50  # number of MCMC walkers\n",
    "nburn = 1000  # \"burn-in\" period to let chains stabilize\n",
    "nsteps = 2000  # number of MCMC steps to take\n",
    "\n",
    "# set theta near the maximum likelihood, with \n",
    "np.random.seed(0)\n",
    "starting_guesses = np.random.random((nwalkers, ndim))"
   ]
  },
  {
   "cell_type": "code",
   "execution_count": 189,
   "metadata": {
    "collapsed": false
   },
   "outputs": [
    {
     "name": "stdout",
     "output_type": "stream",
     "text": [
      "CPU times: user 2.93 s, sys: 40.7 ms, total: 2.97 s\n",
      "Wall time: 3.06 s\n",
      "done\n"
     ]
    }
   ],
   "source": [
    "# Here's the function call where all the work happens:\n",
    "# we'll time it using IPython's %time magic\n",
    "\n",
    "sampler = emcee.EnsembleSampler(nwalkers, ndim, log_posterior, args=[xdata, ydata])\n",
    "%time sampler.run_mcmc(starting_guesses, nsteps)\n",
    "print(\"done\")"
   ]
  },
  {
   "cell_type": "code",
   "execution_count": 186,
   "metadata": {
    "collapsed": false
   },
   "outputs": [
    {
     "name": "stdout",
     "output_type": "stream",
     "text": [
      "2.1.0\n"
     ]
    }
   ],
   "source": [
    "import emcee\n",
    "print(emcee.__version__)"
   ]
  },
  {
   "cell_type": "code",
   "execution_count": 190,
   "metadata": {
    "collapsed": false
   },
   "outputs": [
    {
     "data": {
      "image/png": "[encoded data removed]",
      "text/plain": [
       "<matplotlib.figure.Figure at 0x127635d50>"
      ]
     },
     "metadata": {},
     "output_type": "display_data"
    }
   ],
   "source": [
    "# sampler.chain is of shape (nwalkers, nsteps, ndim)\n",
    "# we'll throw-out the burn-in points and reshape:\n",
    "emcee_trace = sampler.chain[:, nburn:, :].reshape(-1, ndim).T\n",
    "plot_MCMC_results(xdata, ydata, emcee_trace)"
   ]
  },
  {
   "cell_type": "markdown",
   "metadata": {},
   "source": [
    "On the left we show the resulting traces marginalized over the nuisance parameter $\\sigma$. On the right, we show the line of best-fit along with the $2\\sigma$ uncertainty region."
   ]
  },
  {
   "cell_type": "code",
   "execution_count": null,
   "metadata": {
    "collapsed": true
   },
   "outputs": [],
   "source": []
  }
 ],
 "metadata": {
  "kernelspec": {
   "display_name": "Python 2",
   "language": "python",
   "name": "python2"
  },
  "language_info": {
   "codemirror_mode": {
    "name": "ipython",
    "version": 2
   },
   "file_extension": ".py",
   "mimetype": "text/x-python",
   "name": "python",
   "nbconvert_exporter": "python",
   "pygments_lexer": "ipython2",
   "version": "2.7.11"
  }
 },
 "nbformat": 4,
 "nbformat_minor": 0
}
