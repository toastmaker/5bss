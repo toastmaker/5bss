{
 "cells": [
  {
   "cell_type": "code",
   "execution_count": 133,
   "metadata": {
    "collapsed": true
   },
   "outputs": [],
   "source": [
    "%matplotlib inline\n",
    "import matplotlib.pyplot as plt\n",
    "import numpy as np"
   ]
  },
  {
   "cell_type": "code",
   "execution_count": 197,
   "metadata": {
    "collapsed": true
   },
   "outputs": [],
   "source": [
    "np.random.seed(42)"
   ]
  },
  {
   "cell_type": "markdown",
   "metadata": {},
   "source": [
    "# Monte Carlo Recepices for Simple Statistics\n",
    "\n",
    "Heavily based on Jake Vanderplas's talk **Statistics for Hackers**\n",
    "\n",
    "- https://speakerdeck.com/jakevdp/statistics-for-hackers\n",
    "\n",
    "Other great resources:\n",
    "\n",
    "- Jake Vanderplas book: Python Data Science Handbook\n",
    "- Cam Davidson-Pilon book: https://github.com/CamDavidsonPilon/Probabilistic-Programming-and-Bayesian-Methods-for-Hackers\n",
    "\n",
    "Main goals:\n",
    "\n",
    "- to show that even complicated-looking statistics can be simple\n",
    "- to apply Monte Carlo approach\n",
    "- to lern to programme a for loop, Python\n",
    "\n",
    "### The Art of Asking the Right Question"
   ]
  },
  {
   "cell_type": "markdown",
   "metadata": {},
   "source": [
    "## Coin example\n",
    "\n",
    "Toss 30 times and get 22 heads. Is the coin fair?\n",
    "\n",
    "- a fair coin should show about 15 heads!\n",
    "- even a fair coin could show 22, just by chance, it's random\n",
    "\n",
    "Classiacl method is to test the Null hypothesis\n",
    "\n",
    "What is the probability of a fair coin showing 22 heads in 30 tosses by chance?\n",
    "\n",
    "$P(H) = 1/2$\n",
    "\n",
    "$P(HH) = (1/2)^2$\n",
    "\n",
    "$P(2H, 1T) = P(HHT) + P(HTH) + P(THH)$\n",
    "\n",
    "...\n",
    "\n",
    "Mr Bernoulli:\n",
    "\n",
    "$P(N_H, N) = \\binom{N}{N_H} p^{N_H} (1 - p)^{N - N_H}$\n",
    "\n",
    "- number of arrangements\n",
    "- $p$ probability of head\n",
    "- probability of $N_H$ heads in $N$ tosses"
   ]
  },
  {
   "cell_type": "code",
   "execution_count": 227,
   "metadata": {
    "collapsed": false
   },
   "outputs": [],
   "source": [
    "import scipy.stats"
   ]
  },
  {
   "cell_type": "code",
   "execution_count": 228,
   "metadata": {
    "collapsed": false
   },
   "outputs": [
    {
     "name": "stdout",
     "output_type": "stream",
     "text": [
      "0.00545096118003\n"
     ]
    }
   ],
   "source": [
    "[ n, p ] = [ 30, 0.5 ]\n",
    "rv = scipy.stats.binom(n, p)\n",
    "n_h = 22\n",
    "print rv.pmf(n_h)"
   ]
  },
  {
   "cell_type": "markdown",
   "metadata": {},
   "source": [
    "### The concept of p-value\n",
    "\n",
    "Probability of obtaining a result equal or more exteme than that what was observed, if the null hypothesis is true."
   ]
  },
  {
   "cell_type": "code",
   "execution_count": 229,
   "metadata": {
    "collapsed": false
   },
   "outputs": [
    {
     "data": {
      "image/png": "[encoded data removed]",
      "text/plain": [
       "<matplotlib.figure.Figure at 0x11e5f4790>"
      ]
     },
     "metadata": {},
     "output_type": "display_data"
    }
   ],
   "source": [
    "x = np.arange(1, n+1)\n",
    "v_crit = rv.isf(0.05)\n",
    "\n",
    "plt.plot(x, rv.pmf(x), linestyle='steps-mid')\n",
    "plt.fill_between(x[x>v_crit], rv.pmf(x)[x>v_crit], facecolor='red')\n",
    "\n",
    "#h = plt.vlines(x, 0, rv.pmf(x), lw=2)\n",
    "#plt.vlines(x[n_h-1:], 0, rv.pmf(x[n_h-1:]), color='red', lw=2)\n",
    "\n",
    "plt.annotate('p = 0.05',xy=(v_crit+2,0.03),color='red')\n",
    "plt.title('Bernoulli 30 tosses of a fair coin')\n",
    "plt.xlabel('Number of heads');"
   ]
  },
  {
   "cell_type": "code",
   "execution_count": 230,
   "metadata": {
    "collapsed": false
   },
   "outputs": [
    {
     "name": "stdout",
     "output_type": "stream",
     "text": [
      "0.00806240085512\n"
     ]
    }
   ],
   "source": [
    "pvalue = scipy.stats.binom_test((22,8), p=p) /2.\n",
    "# division by 2 because the default is two sided, not one sided\n",
    "# you can ommit /2 if  alternative='greater' is added\n",
    "# distribution is symmetric\n",
    "print pvalue"
   ]
  },
  {
   "cell_type": "code",
   "execution_count": 231,
   "metadata": {
    "collapsed": false
   },
   "outputs": [
    {
     "data": {
      "text/plain": [
       "0.0080624008551239933"
      ]
     },
     "execution_count": 231,
     "metadata": {},
     "output_type": "execute_result"
    }
   ],
   "source": [
    "scipy.stats.binom_test(22, 30, 0.5, alternative='greater')"
   ]
  },
  {
   "cell_type": "markdown",
   "metadata": {},
   "source": [
    "Probability 0.008 of this observation given a fair coin is smaller than $p < 0.05$. We can reject the fair coin hypothesis at $p = 0.05$ level."
   ]
  },
  {
   "cell_type": "markdown",
   "metadata": {},
   "source": [
    "Essential is the knowledge of the shape of the Bernoulli underlying distribution! Interpretation requires understanding the doc/help..."
   ]
  },
  {
   "cell_type": "code",
   "execution_count": 232,
   "metadata": {
    "collapsed": false
   },
   "outputs": [
    {
     "data": {
      "text/plain": [
       "0.0080624008551239967"
      ]
     },
     "execution_count": 232,
     "metadata": {},
     "output_type": "execute_result"
    }
   ],
   "source": [
    "1. - rv.cdf(21)"
   ]
  },
  {
   "cell_type": "code",
   "execution_count": 233,
   "metadata": {
    "collapsed": false
   },
   "outputs": [
    {
     "name": "stdout",
     "output_type": "stream",
     "text": [
      "0.0089\n"
     ]
    }
   ],
   "source": [
    "# Simulate it!\n",
    "\n",
    "M = 0\n",
    "Ntrials = 10000\n",
    "for i in range(Ntrials):\n",
    "    trials = np.random.randint(2, size=30)\n",
    "    if (trials.sum() >= 22):\n",
    "        M += 1\n",
    "p = M/np.float(Ntrials)\n",
    "print p"
   ]
  },
  {
   "cell_type": "markdown",
   "metadata": {},
   "source": [
    "Computing the sampling distribution is often hard, simulating is often easy and intuitive"
   ]
  },
  {
   "cell_type": "markdown",
   "metadata": {},
   "source": [
    "## Is the difference between two groups of observations significant?\n",
    "\n",
    "e.g. variability over a period of time"
   ]
  },
  {
   "cell_type": "code",
   "execution_count": 245,
   "metadata": {
    "collapsed": false
   },
   "outputs": [],
   "source": [
    "A = np.array([84., 72., 57., 46., 63., 76., 99., 91.])\n",
    "B = np.array([81., 69., 74., 61., 56, 87., 69., 65., 66., 44., 62., 69.])\n",
    "\n",
    "NA = len(A)\n",
    "NB = len(B)"
   ]
  },
  {
   "cell_type": "code",
   "execution_count": 246,
   "metadata": {
    "collapsed": false
   },
   "outputs": [
    {
     "name": "stdout",
     "output_type": "stream",
     "text": [
      "Mean A = 73.5\n",
      "Mean B = 66.9\n",
      "\n",
      "Diff A - B = 6.6\n",
      "\n",
      "Sigma A = 316.3\n",
      "Sigma B = 124.8\n"
     ]
    }
   ],
   "source": [
    "muA, sigA = A.mean(), A.var(ddof=1)\n",
    "muB, sigB = B.mean(), B.var(ddof=1)\n",
    "diff = muA-muB\n",
    "print \"Mean A = %.1f\"%muA\n",
    "print \"Mean B = %.1f\"%muB\n",
    "print \"\\nDiff A - B = %.1f\\n\"%(diff)\n",
    "print \"Sigma A = %.1f\"%sigA\n",
    "print \"Sigma B = %.1f\"%sigB"
   ]
  },
  {
   "cell_type": "markdown",
   "metadata": {},
   "source": [
    "Is the difference significant?\n",
    "\n",
    "But what are the distributions?\n",
    "\n",
    "Difference of two distributions follows t distribution\n",
    "\n",
    "Welch's t-test...\n",
    "\n",
    "$$t = \\frac{ \\bar{X_1} - \\bar{X_2} } {\\sqrt{\\frac{s^2_1}{n_1} + \\frac{s_2^2}{n_2}}}$$"
   ]
  },
  {
   "cell_type": "code",
   "execution_count": 250,
   "metadata": {
    "collapsed": true
   },
   "outputs": [],
   "source": [
    "def ttest(mu1, mu2, sig1, sig2, n1, n2):\n",
    "    return (mu1 - mu2)/np.sqrt(sig1/n1 + sig2/n2)"
   ]
  },
  {
   "cell_type": "code",
   "execution_count": 258,
   "metadata": {
    "collapsed": false,
    "scrolled": true
   },
   "outputs": [
    {
     "data": {
      "text/plain": [
       "0.93161477717115826"
      ]
     },
     "execution_count": 258,
     "metadata": {},
     "output_type": "execute_result"
    }
   ],
   "source": [
    "t = ttest(muA, muB, sigA, sigB, NA, NB)\n",
    "t"
   ]
  },
  {
   "cell_type": "markdown",
   "metadata": {},
   "source": [
    "Student t distribution\n",
    "\n",
    "$$p(t, \\nu) = \\frac{ \\Gamma \\left( \\frac{\\nu + 1}{2}\\right) } {\\sqrt{\\nu \\pi} \\Gamma \\left(\\frac{\\nu}{2}\\right)} \\left( 1 + \\frac{t^2}{\\nu}\\right)^{-\\frac{\\nu+1}{2}}$$\n",
    "\n",
    "where $\\nu$ is a degree of freedom...\n",
    "\n",
    "$$\\nu \\approx \\frac{\\left( \\frac{s_1^2}{N_1}+ \\frac{s^2_2}{N_2}\\right)^2}{\\frac{s^4_1}{N_1^2(N_1-1)}+ \\frac{s^4_2}{N_2^2(N_2 -1)}}$$\n",
    "\n",
    "and $\\Gamma$ is an extension of the factorial function (for integer $n$)\n",
    "$\\Gamma(n) = (n-1)!$ ...\n",
    "\n",
    "\n",
    "$$\\Gamma(t) = \\int_0^\\infty x^{t-1} \\exp(-x) dx$$"
   ]
  },
  {
   "cell_type": "markdown",
   "metadata": {},
   "source": [
    "<img src=\"figures/travolta.gif\" width=\"50%\">"
   ]
  },
  {
   "cell_type": "code",
   "execution_count": 266,
   "metadata": {
    "collapsed": true
   },
   "outputs": [],
   "source": [
    "def degof(s1, n1, s2, n2):\n",
    "    return (s1/n1 + s2/n2)**2 / (s1**2/(n1**2 * (n1-1)) + s2**2/(n2**2 * (n2-1)) )"
   ]
  },
  {
   "cell_type": "code",
   "execution_count": 263,
   "metadata": {
    "collapsed": false
   },
   "outputs": [
    {
     "data": {
      "text/plain": [
       "10.696428999751994"
      ]
     },
     "execution_count": 263,
     "metadata": {},
     "output_type": "execute_result"
    }
   ],
   "source": [
    "( sigA/NA + sigB/NB )**2 / ( ( sigA**2/(NA**2*(NA-1) ) + sigB**2/(NB**2*(NB-1))))"
   ]
  },
  {
   "cell_type": "markdown",
   "metadata": {},
   "source": [
    "But what is the critical value for t-distribution for this $\\nu$?\n",
    "\n",
    "<img src=\"figures/tstat.png\", width=\"100%\">"
   ]
  },
  {
   "cell_type": "code",
   "execution_count": 268,
   "metadata": {
    "collapsed": false
   },
   "outputs": [
    {
     "name": "stdout",
     "output_type": "stream",
     "text": [
      "1.7958848187\n"
     ]
    }
   ],
   "source": [
    "pval = scipy.stats.t.ppf(0.95, 11)\n",
    "print pval"
   ]
  },
  {
   "cell_type": "code",
   "execution_count": 93,
   "metadata": {
    "collapsed": false
   },
   "outputs": [
    {
     "data": {
      "text/plain": [
       "False"
      ]
     },
     "execution_count": 93,
     "metadata": {},
     "output_type": "execute_result"
    }
   ],
   "source": [
    "t_crit = 1.7959\n",
    "t = 0.93\n",
    "t > t_crit"
   ]
  },
  {
   "cell_type": "markdown",
   "metadata": {},
   "source": [
    "The difference 6.6 is **not** significant at $p=0.05$ level..."
   ]
  },
  {
   "cell_type": "code",
   "execution_count": 255,
   "metadata": {
    "collapsed": false
   },
   "outputs": [
    {
     "name": "stdout",
     "output_type": "stream",
     "text": [
      "Ttest_indResult(statistic=0.93161477717115826, pvalue=0.3720857855465306)\n"
     ]
    }
   ],
   "source": [
    "print scipy.stats.ttest_ind(A, B, equal_var=False)"
   ]
  },
  {
   "cell_type": "code",
   "execution_count": 265,
   "metadata": {
    "collapsed": false
   },
   "outputs": [
    {
     "name": "stdout",
     "output_type": "stream",
     "text": [
      "0.186042892773\n"
     ]
    }
   ],
   "source": [
    "from statsmodels.stats.weightstats import ttest_ind\n",
    "t, p, dof = ttest_ind(A, B, alternative='larger', usevar='unequal')\n",
    "print p"
   ]
  },
  {
   "cell_type": "markdown",
   "metadata": {},
   "source": [
    "Dark magic lies behind the sampling from t-distribution.\n",
    "\n",
    "We cannot sample this time, we don't know the underlying distributions of A and B\n",
    "\n",
    "## Shuffling\n",
    "\n",
    "Idea: **If the distributions are the same, shuffling (changing labels) will not change the statistics (mean). If the result is the same, the distributions are likely the same**\n",
    "\n",
    "1. shuffle\n",
    "2. rearrange\n",
    "3. compute means and difference\n",
    "\n",
    "Do 1. - 3. many times. $N > 6.6 / N_tot$. Is it smaller than $p = 0.05$? Reject the hypothesis that shuffling does not matter."
   ]
  },
  {
   "cell_type": "code",
   "execution_count": 279,
   "metadata": {
    "collapsed": false
   },
   "outputs": [
    {
     "name": "stdout",
     "output_type": "stream",
     "text": [
      "0.1516\n",
      "True\n"
     ]
    }
   ],
   "source": [
    "AB = np.concatenate([A, B])\n",
    "M = 0\n",
    "N_trials = 10000\n",
    "for i in range(N_trials):\n",
    "    np.random.shuffle(AB)\n",
    "    mu1 = AB[0:NA].mean()\n",
    "    mu2 = AB[NA:].mean()\n",
    "    diff = mu1 - mu2\n",
    "    if (diff > 6.6):\n",
    "        M = M +1\n",
    "pvalue = M/np.float(Ntrials)\n",
    "print pvalue\n",
    "print pvalue > 0.05 # True if no difference at p= 0.05 level"
   ]
  },
  {
   "cell_type": "markdown",
   "metadata": {},
   "source": [
    "Works only if:\n",
    "\n",
    "- Null hypothesis assumes the two groups follow the same distribution\n",
    "- samples are representative (be careful about selection biases)\n",
    "- trials are independent"
   ]
  },
  {
   "cell_type": "markdown",
   "metadata": {},
   "source": [
    "## Bootstrapping"
   ]
  },
  {
   "cell_type": "code",
   "execution_count": 281,
   "metadata": {
    "collapsed": true
   },
   "outputs": [],
   "source": [
    "sample = np.array([48, 24, 51, 12, 21, 41, 25, 23, 32, 61, 19, 24, 29, 21, 23, 13, 32, 18, 42, 18])"
   ]
  },
  {
   "cell_type": "markdown",
   "metadata": {},
   "source": [
    "What is the mean?\n",
    "\n",
    "What is the standard error of this mean?\n",
    "\n",
    "$$\\bar{x}=\\frac{1}{N}\\Sigma_{i=1}^{N} x_i$$\n",
    "\n",
    "$$\\sigma_\\bar{x} = \\frac{1}{\\sqrt{N}}\\sqrt{\\frac{1}{N-1}}\\Sigma_{i=1}^N (x_i - \\bar{x})^2$$"
   ]
  },
  {
   "cell_type": "code",
   "execution_count": 294,
   "metadata": {
    "collapsed": false
   },
   "outputs": [
    {
     "data": {
      "text/plain": [
       "(28.850000000000001, 2.9702693480558291)"
      ]
     },
     "execution_count": 294,
     "metadata": {},
     "output_type": "execute_result"
    }
   ],
   "source": [
    "sample.mean(), scipy.stats.sem(sample, ddof=1) # standard error of the mean"
   ]
  },
  {
   "cell_type": "markdown",
   "metadata": {},
   "source": [
    "Again, we don't know the model\n",
    "\n",
    "Bootstrapping:\n",
    "\n",
    "**Idea: Simulate the distribution by drawing samples from the samples with replacement**\n",
    "\n",
    "1. draw a sample\n",
    "2. calculate mean"
   ]
  },
  {
   "cell_type": "code",
   "execution_count": 295,
   "metadata": {
    "collapsed": false
   },
   "outputs": [
    {
     "name": "stdout",
     "output_type": "stream",
     "text": [
      "28.855995 2.85914074679\n"
     ]
    }
   ],
   "source": [
    "Ntrials = 10000\n",
    "xbar = np.empty(10000)\n",
    "\n",
    "for i in range(Ntrials):\n",
    "    new_sample = sample[np.random.randint(20, size=20)]\n",
    "    xbar[i] = np.mean(new_sample)\n",
    "print xbar.mean(), xbar.std()"
   ]
  },
  {
   "cell_type": "code",
   "execution_count": 296,
   "metadata": {
    "collapsed": false
   },
   "outputs": [
    {
     "data": {
      "image/png": "[encoded data removed]",
      "text/plain": [
       "<matplotlib.figure.Figure at 0x11e3004d0>"
      ]
     },
     "metadata": {},
     "output_type": "display_data"
    }
   ],
   "source": [
    "plt.hist(xbar, bins=50);"
   ]
  },
  {
   "cell_type": "markdown",
   "metadata": {},
   "source": [
    "$29 \\pm 3$"
   ]
  },
  {
   "cell_type": "markdown",
   "metadata": {},
   "source": [
    "Bootstrapping is often used to determine the uncertainity of fit parameters"
   ]
  },
  {
   "cell_type": "code",
   "execution_count": 297,
   "metadata": {
    "collapsed": false
   },
   "outputs": [
    {
     "data": {
      "text/plain": [
       "20"
      ]
     },
     "execution_count": 297,
     "metadata": {},
     "output_type": "execute_result"
    }
   ],
   "source": [
    "x = np.array([ 7.5,  8.1,  8.4,  8.8,  8.9,\n",
    "               9.0,  9.1,  9.2,  9.3,  9.5,\n",
    "               9.6,  9.9, 10.0, 10.05, 10.5,\n",
    "              10.6, 10.6, 11.2, 11.8, 12.6 ])\n",
    "x.size"
   ]
  },
  {
   "cell_type": "code",
   "execution_count": 298,
   "metadata": {
    "collapsed": false
   },
   "outputs": [
    {
     "data": {
      "text/plain": [
       "20"
      ]
     },
     "execution_count": 298,
     "metadata": {},
     "output_type": "execute_result"
    }
   ],
   "source": [
    "y = np.array([22, 21, 19, 16, 18,\n",
    "              15, 17, 17, 17, 19,\n",
    "              14, 14, 15, 11, 12,\n",
    "              12, 13, 10,  7,  9])\n",
    "y.size"
   ]
  },
  {
   "cell_type": "code",
   "execution_count": 299,
   "metadata": {
    "collapsed": false
   },
   "outputs": [
    {
     "name": "stdout",
     "output_type": "stream",
     "text": [
      "Slope:  -2.96942934494\n",
      "Intersect: 43.7999710996\n"
     ]
    },
    {
     "data": {
      "image/png": "[encoded data removed]",
      "text/plain": [
       "<matplotlib.figure.Figure at 0x11eb2a0d0>"
      ]
     },
     "metadata": {},
     "output_type": "display_data"
    }
   ],
   "source": [
    "plt.plot(x,y,\"o\")\n",
    "plt.grid(True)\n",
    "slope, intersect = np.polyfit(x,y, 1)\n",
    "plt.plot(x,slope*x+intersect,'-r')\n",
    "print \"Slope: \", slope\n",
    "print \"Intersect:\", intersect"
   ]
  },
  {
   "cell_type": "code",
   "execution_count": 300,
   "metadata": {
    "collapsed": false
   },
   "outputs": [
    {
     "name": "stdout",
     "output_type": "stream",
     "text": [
      "Slope: -2.96942934494\n",
      "Intersect: 43.7999710996\n",
      "Std Error: 0.289810879821\n"
     ]
    }
   ],
   "source": [
    "from scipy.stats import linregress\n",
    "linreg = linregress(x,y)\n",
    "print \"Slope:\", linreg.slope\n",
    "print \"Intersect:\", linreg.intercept\n",
    "print \"Std Error:\", linreg.stderr"
   ]
  },
  {
   "cell_type": "markdown",
   "metadata": {},
   "source": [
    "But this is the error of the fit, what is the error of each parameter?"
   ]
  },
  {
   "cell_type": "code",
   "execution_count": 301,
   "metadata": {
    "collapsed": true
   },
   "outputs": [],
   "source": [
    "results = np.empty((10000,2))\n",
    "for i in range(10000):\n",
    "    ind = np.random.randint(20, size=20)\n",
    "    slope, intercept = np.polyfit(x[ind],y[ind], 1)\n",
    "    results[i][0], results[i][1] = slope, intercept"
   ]
  },
  {
   "cell_type": "code",
   "execution_count": 302,
   "metadata": {
    "collapsed": false
   },
   "outputs": [
    {
     "data": {
      "text/plain": [
       "(-3.0037107271184298, 0.32373109656383681)"
      ]
     },
     "execution_count": 302,
     "metadata": {},
     "output_type": "execute_result"
    }
   ],
   "source": [
    "results[:,0].mean(), results[:,0].std()"
   ]
  },
  {
   "cell_type": "code",
   "execution_count": 303,
   "metadata": {
    "collapsed": false
   },
   "outputs": [
    {
     "data": {
      "text/plain": [
       "(44.107504456403923, 3.0854143593880985)"
      ]
     },
     "execution_count": 303,
     "metadata": {},
     "output_type": "execute_result"
    }
   ],
   "source": [
    "results[:,1].mean(), results[:,1].std()"
   ]
  },
  {
   "cell_type": "markdown",
   "metadata": {},
   "source": [
    "- Bootstrapping does not work for only few samples (N<20)\n",
    "- Be careful about biases"
   ]
  },
  {
   "cell_type": "markdown",
   "metadata": {},
   "source": [
    "## Cross validation\n",
    "\n",
    "We know this from ML already"
   ]
  },
  {
   "cell_type": "markdown",
   "metadata": {},
   "source": [
    "which model is a better fit?\n",
    "\n",
    "$y = a + b x$\n",
    "\n",
    "$y = a + b x + c x^2$\n",
    "\n",
    "or higher polynomial?"
   ]
  },
  {
   "cell_type": "markdown",
   "metadata": {},
   "source": [
    "- measure of error is rms (root of sum of squared errors)\n",
    "- but more flexible models will always have lower RMS error"
   ]
  },
  {
   "cell_type": "markdown",
   "metadata": {},
   "source": [
    "difference in mean squared error follows chi-square distribution\n",
    "\n",
    "$$p(x, \\nu) = \\frac{1}{2^{\\nu/2}\\Gamma \\left(\\frac{\\nu}{2}\\right)} x ^{\\frac{\\nu}{2}-1} \\exp \\left({-\\frac{1}{2}x}\\right)$$\n",
    "\n",
    "$\\nu \\approx \\nu_2 - \\nu_1$\n",
    "\n",
    "$\\nu_2 \\approx (N - d_2)$\n",
    "\n",
    "$\\nu_1 \\approx (N - d_1)$\n",
    "\n",
    "models are nested, therefore one can estimate degrees of freedom easily"
   ]
  },
  {
   "cell_type": "code",
   "execution_count": 507,
   "metadata": {
    "collapsed": false
   },
   "outputs": [],
   "source": [
    "import numpy as np\n",
    "\n",
    "np.random.seed(0)\n",
    "true_fun = lambda X: 10 - 1. / (X + 0.1)\n",
    "\n",
    "def make_data(N, err=1.0, rseed=1):\n",
    "    # randomly sample the data\n",
    "#    rng = np.random.RandomState(rseed)\n",
    "    X = np.sort(np.random.rand(N))\n",
    "    X = X[:, np.newaxis]\n",
    "    #X = np.sort(rng.rand(N, 1))\n",
    "    y = true_fun(X.ravel())\n",
    "    if err > 0:\n",
    "        y += err * 1.*np.random.randn(N)\n",
    "    return X, y\n",
    "\n",
    "N = 30\n",
    "X, y = make_data(N)"
   ]
  },
  {
   "cell_type": "code",
   "execution_count": 508,
   "metadata": {
    "collapsed": false
   },
   "outputs": [],
   "source": [
    "def rms(y_real, y_predicted):\n",
    "    return np.sqrt(np.mean( (y_real-y_predicted)**2) )"
   ]
  },
  {
   "cell_type": "code",
   "execution_count": 509,
   "metadata": {
    "collapsed": false
   },
   "outputs": [
    {
     "data": {
      "text/plain": [
       "<matplotlib.text.Text at 0x122817510>"
      ]
     },
     "execution_count": 509,
     "metadata": {},
     "output_type": "execute_result"
    },
    {
     "data": {
      "image/png": "[encoded data removed]",
      "text/plain": [
       "<matplotlib.figure.Figure at 0x12343ed10>"
      ]
     },
     "metadata": {},
     "output_type": "display_data"
    }
   ],
   "source": [
    "z1 = np.polyfit(X.ravel(), y, 1)\n",
    "f1 = np.poly1d(z1)\n",
    "y_new = f1(X.ravel())\n",
    "plt.scatter(X.ravel(), y);\n",
    "plt.plot(X.ravel(), y_new, color='red')\n",
    "plt.title('1 degree rms = %.1f'%rms(y, y_new))"
   ]
  },
  {
   "cell_type": "code",
   "execution_count": 510,
   "metadata": {
    "collapsed": false
   },
   "outputs": [
    {
     "data": {
      "text/plain": [
       "1.4167738123934264"
      ]
     },
     "execution_count": 510,
     "metadata": {},
     "output_type": "execute_result"
    }
   ],
   "source": [
    "from sklearn.metrics import mean_squared_error\n",
    "from math import sqrt\n",
    "\n",
    "rms1 = sqrt(mean_squared_error(y, y_new))\n",
    "rms1"
   ]
  },
  {
   "cell_type": "code",
   "execution_count": 511,
   "metadata": {
    "collapsed": false
   },
   "outputs": [
    {
     "data": {
      "text/plain": [
       "<matplotlib.text.Text at 0x12307c990>"
      ]
     },
     "execution_count": 511,
     "metadata": {},
     "output_type": "execute_result"
    },
    {
     "data": {
      "image/png": "[encoded data removed]",
      "text/plain": [
       "<matplotlib.figure.Figure at 0x120cc8f50>"
      ]
     },
     "metadata": {},
     "output_type": "display_data"
    }
   ],
   "source": [
    "z2 = np.polyfit(X.ravel(), y, 2)\n",
    "f2 = np.poly1d(z2)\n",
    "y_new = f2(X.ravel())\n",
    "plt.scatter(X.ravel(), y);\n",
    "plt.plot(X.ravel(), y_new, color='red')\n",
    "plt.title('2 degree rms = %.1f'%rms(y, y_new))"
   ]
  },
  {
   "cell_type": "code",
   "execution_count": 512,
   "metadata": {
    "collapsed": false
   },
   "outputs": [
    {
     "data": {
      "text/plain": [
       "1.134207969060934"
      ]
     },
     "execution_count": 512,
     "metadata": {},
     "output_type": "execute_result"
    }
   ],
   "source": [
    "rms2 = sqrt(mean_squared_error(y, y_new))\n",
    "rms2"
   ]
  },
  {
   "cell_type": "markdown",
   "metadata": {},
   "source": [
    "Cross-validation idea:\n",
    "\n",
    "1. Split data **randomly** in two sets\n",
    "2. Fit both halves\n",
    "3. Use the model and calculate the rms for the other half and vice versa\n",
    "4. Compare rms and cross-validated rms"
   ]
  },
  {
   "cell_type": "code",
   "execution_count": 513,
   "metadata": {
    "collapsed": false
   },
   "outputs": [],
   "source": [
    "from sklearn.preprocessing import PolynomialFeatures\n",
    "from sklearn.linear_model import LinearRegression\n",
    "from sklearn.pipeline import make_pipeline\n",
    "\n",
    "def PolynomialRegression(degree=2, **kwargs):\n",
    "    return make_pipeline(PolynomialFeatures(degree),\n",
    "                         LinearRegression(**kwargs))"
   ]
  },
  {
   "cell_type": "code",
   "execution_count": 514,
   "metadata": {
    "collapsed": false
   },
   "outputs": [
    {
     "data": {
      "image/png": "[encoded data removed]",
      "text/plain": [
       "<matplotlib.figure.Figure at 0x12203d7d0>"
      ]
     },
     "metadata": {},
     "output_type": "display_data"
    }
   ],
   "source": [
    "%matplotlib inline\n",
    "import matplotlib.pyplot as plt\n",
    "import seaborn; seaborn.set()  # plot formatting\n",
    "\n",
    "X_test = np.linspace(-0.1, 1.1, 2*N)[:, None]\n",
    "\n",
    "plt.scatter(X.ravel(), y, color='black')\n",
    "plt.plot(X.ravel(), true_fun(X.ravel()), label='True', linestyle=\":\")\n",
    "\n",
    "axis = plt.axis()\n",
    "for degree in [1, 2, 5, 7]:\n",
    "    y_test = PolynomialRegression(degree).fit(X, y).predict(X_test)\n",
    "    y_fool = PolynomialRegression(degree).fit(X, y).predict(X)\n",
    "    rms_val = rms(y, y_fool)\n",
    "#    scores = cross_validation.cross_val_score(PolynomialRegression(degree),\n",
    "#        X, y, scoring=\"mean_squared_error\", cv=cv)\n",
    "    plt.plot(X_test.ravel(), y_test, label='degree={0}, RMS={1:.2f}'.format(degree, rms_val))\n",
    "plt.xlim(-0.1, 1.0)\n",
    "plt.ylim(-2, 12)\n",
    "plt.legend(loc='best');"
   ]
  },
  {
   "cell_type": "code",
   "execution_count": 515,
   "metadata": {
    "collapsed": false
   },
   "outputs": [
    {
     "data": {
      "image/png": "[encoded data removed]",
      "text/plain": [
       "<matplotlib.figure.Figure at 0x11d9ed8d0>"
      ]
     },
     "metadata": {},
     "output_type": "display_data"
    }
   ],
   "source": [
    "from sklearn.cross_validation import KFold\n",
    "from sklearn import cross_validation\n",
    "\n",
    "cv = KFold(N, n_folds=2, shuffle=True, random_state=1)\n",
    "\n",
    "\n",
    "from sklearn.learning_curve import validation_curve\n",
    "degree = np.arange(0, 8)\n",
    "    \n",
    "train_score, val_score = validation_curve(PolynomialRegression(),\n",
    "                                          X, y,\n",
    "                                          'polynomialfeatures__degree',\n",
    "                                          degree,\n",
    "                                          cv=cv)\n",
    "\n",
    "plt.plot(degree, np.median(train_score, 1), color='blue', label='training score')\n",
    "plt.plot(degree, np.median(val_score, 1), color='red', label='validation score')\n",
    "plt.legend(loc='best')\n",
    "plt.ylim(0, 1)\n",
    "plt.xlabel('degree')\n",
    "plt.ylabel('score');"
   ]
  },
  {
   "cell_type": "markdown",
   "metadata": {},
   "source": [
    "Cross validation is often the only choice in machine learning, because the statistics of the models are typically not known."
   ]
  },
  {
   "cell_type": "markdown",
   "metadata": {},
   "source": [
    "## Monte Carlo Markov Chain Fitting"
   ]
  },
  {
   "cell_type": "code",
   "execution_count": null,
   "metadata": {
    "collapsed": true
   },
   "outputs": [],
   "source": []
  }
 ],
 "metadata": {
  "kernelspec": {
   "display_name": "Python 2",
   "language": "python",
   "name": "python2"
  },
  "language_info": {
   "codemirror_mode": {
    "name": "ipython",
    "version": 2
   },
   "file_extension": ".py",
   "mimetype": "text/x-python",
   "name": "python",
   "nbconvert_exporter": "python",
   "pygments_lexer": "ipython2",
   "version": "2.7.11"
  }
 },
 "nbformat": 4,
 "nbformat_minor": 0
}
