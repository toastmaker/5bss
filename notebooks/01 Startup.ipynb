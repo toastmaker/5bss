{
 "cells": [
  {
   "cell_type": "markdown",
   "metadata": {},
   "source": [
    "# Introduction to Machine Learning in Astronomy with Python\n",
    "\n",
    "Martin Topinka\n",
    "\n",
    "topinka@cp.dias.ie\n",
    "\n",
    "JWST programmer, researcher at Dublin Institute for Advanced Studies in Ireland\n",
    "\n",
    "Gamma-ray bursts, robotic telescopes, surveys, data science"
   ]
  },
  {
   "cell_type": "markdown",
   "metadata": {},
   "source": [
    "***The average human’s attention span is 8 seconds***"
   ]
  },
  {
   "cell_type": "markdown",
   "metadata": {},
   "source": [
    "### Machine learning (3 hours)\n",
    "\n",
    "- Introduction to the ML\n",
    "- Introduction to scikit-learn Python package\n",
    "\n",
    "\n",
    "### Statistics in Python (1 hour)\n",
    "\n",
    "- Shameless (and enriched) hack of Jake Vanderplas' great talk **Statistics for Hackers** at PyCon 2016)"
   ]
  },
  {
   "cell_type": "markdown",
   "metadata": {},
   "source": [
    "### Syllabus\n",
    "\n",
    "- Introduction to machine learning (regression, classification, principal component decomposition, dimensionality reduction)\n",
    "- State of art algorithms (Neural network, Random forests, Support Vector Machines, Gaussian processes, K nearest neighbours, K-mean clustering, spectral clustering)\n",
    "- Hands on Scikit-learn Python package\n",
    "- Crash course of statistical testing for hackers (cross validation, bootstrapping, distribution p-values, model comparison, Monte Carlo methods, (Bayesian) Monte Carlo Markov Chain fitting)\n",
    "\n"
   ]
  },
  {
   "cell_type": "markdown",
   "metadata": {},
   "source": [
    "### Setup\n",
    "\n",
    "Downloading and installing simplified **conda** environment manager called **miniconda** (follow http://conda.pydata.org/miniconda.html and installation notes http://conda.pydata.org/docs/install/quick.html) makes things really easy. There is an installer for Windows, Mac OSX and Linux. (Full anaconda installer can be obtained from https://www.continuum.io/downloads)\n",
    "\n",
    "    $ bash Miniconda3-latest-MacOSX-x86_64.sh\n",
    "\n",
    "    $ conda install numpy scipy matplotlib scikit-learn ipython-notebook\n",
    "    \n",
    "All these notebooks/slides/notes are (or will be) available on github https://github.com/toastmaker/5bss"
   ]
  },
  {
   "cell_type": "markdown",
   "metadata": {},
   "source": [
    "## Scikit-learn\n",
    "\n",
    "http://scikit-learn.org\n",
    "\n",
    "**Pros:**\n",
    "\n",
    "- Even complicated powerful algorithms are provided with simple API\n",
    "\n",
    "- Single API for all tasks\n",
    "\n",
    "- Actively developed, alive library, open source, free, used in academia\n",
    "\n",
    "- Written in Python - language #1 in astronomy today\n",
    "\n",
    "- Great documentation with many examples\n",
    "\n",
    "**Cons:**\n",
    "\n",
    "- Not for big data"
   ]
  },
  {
   "cell_type": "markdown",
   "metadata": {},
   "source": [
    "# Machine Learning\n",
    "\n",
    "\"Machine learning is the future.\" -- Google\n",
    "\n",
    "\"It's not magic. It's just a tool. But it's a really important tool.\" -- Google\n",
    "\n",
    "## What is Machine Learning?\n",
    "\n",
    "Set of algorithms with tunable parameters that can learn and adjust the values of these parameters from previously seen data and generalising for predictions of new yet unseen data.\n",
    "\n",
    "learning from data\n",
    "\n",
    "image recognition, bank fraud detection, hand-writing recognition, find similarities\n",
    "\n",
    "\n",
    "- supervised learning - training from data with known results\n",
    "- unsupervised learning - finding structure and patterns in data without labels\n",
    "\n",
    "##### Regression\n",
    "\n",
    "fitting a line\n",
    "astronomy regression example, photometric redshift\n",
    "\n",
    "non-trivial data analysis of large and/or multidimensional and/or complicated data sets\n",
    "\n",
    "##### Classification\n",
    "\n",
    "astronomy classification example, stars vs quasars, artefact finding\n",
    "\n",
    "##### Clustering\n",
    "\n",
    "outliers\n",
    "\n",
    "##### Principal Component Analysis\n",
    "\n",
    "find similarities"
   ]
  },
  {
   "cell_type": "markdown",
   "metadata": {},
   "source": [
    "## Representation of data in scikit-learn\n",
    "\n",
    "Most machine learning algorithms implemented in scikit-learn expect data to be stored in a two-dimensional array or matrix. The arrays can be either numpy arrays, or in some cases scipy.sparse matrices. The size of the array is expected to be [n_samples, n_features]\n",
    "\n",
    "astro-ml\n",
    "\n",
    "data preparation\n",
    "\n",
    "normalise, scale, centre, align, preprocesing, feature selection\n",
    "\n",
    "curse of dimensionality\n",
    "\n",
    "VC dimension, overfitting\n",
    "\n"
   ]
  },
  {
   "cell_type": "markdown",
   "metadata": {},
   "source": [
    "how to get help in scikit-learn?"
   ]
  },
  {
   "cell_type": "code",
   "execution_count": null,
   "metadata": {
    "collapsed": true
   },
   "outputs": [],
   "source": []
  }
 ],
 "metadata": {
  "kernelspec": {
   "display_name": "Python 2",
   "language": "python",
   "name": "python2"
  },
  "language_info": {
   "codemirror_mode": {
    "name": "ipython",
    "version": 2
   },
   "file_extension": ".py",
   "mimetype": "text/x-python",
   "name": "python",
   "nbconvert_exporter": "python",
   "pygments_lexer": "ipython2",
   "version": "2.7.11"
  }
 },
 "nbformat": 4,
 "nbformat_minor": 0
}
